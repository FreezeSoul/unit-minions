{
 "cells": [
  {
   "cell_type": "markdown",
   "id": "34b01491-dd26-4aed-8fd9-05d56c1e92ee",
   "metadata": {},
   "source": [
    "# 评估"
   ]
  },
  {
   "cell_type": "code",
   "execution_count": null,
   "outputs": [],
   "source": [
    "import torch\n",
    "from peft import PeftModel\n",
    "import transformers\n",
    "\n",
    "assert (\n",
    "        \"LlamaTokenizer\" in transformers._import_structure[\"models.llama\"]\n",
    "), \"LLaMA is now in HuggingFace's main branch.\\nPlease reinstall it: pip uninstall transformers && pip install git+https://github.com/huggingface/transformers.git\"\n",
    "from transformers import LlamaTokenizer, LlamaForCausalLM, GenerationConfig\n",
    "\n",
    "tokenizer = LlamaTokenizer.from_pretrained(\"./llama-7b-hf\")\n",
    "\n",
    "BASE_MODEL = \"./llama-7b-hf\"\n",
    "LORA_WEIGHTS = \"./alpaca-lora/lora-alpaca\"\n",
    "\n",
    "if torch.cuda.is_available():\n",
    "    device = \"cuda\"\n",
    "else:\n",
    "    device = \"cpu\"\n",
    "\n",
    "try:\n",
    "    if torch.backends.mps.is_available():\n",
    "        device = \"mps\"\n",
    "except:\n",
    "    pass\n",
    "\n",
    "if device == \"cuda\":\n",
    "    model = LlamaForCausalLM.from_pretrained(\n",
    "        BASE_MODEL,\n",
    "        load_in_8bit=False,\n",
    "        torch_dtype=torch.float16,\n",
    "        device_map=\"auto\",\n",
    "    )\n",
    "    model = PeftModel.from_pretrained(\n",
    "        model, LORA_WEIGHTS, torch_dtype=torch.float16, force_download=True\n",
    "    )\n",
    "elif device == \"mps\":\n",
    "    model = LlamaForCausalLM.from_pretrained(\n",
    "        BASE_MODEL,\n",
    "        device_map={\"\": device},\n",
    "        torch_dtype=torch.float16,\n",
    "    )\n",
    "    model = PeftModel.from_pretrained(\n",
    "        model,\n",
    "        LORA_WEIGHTS,\n",
    "        device_map={\"\": device},\n",
    "        torch_dtype=torch.float16,\n",
    "    )\n",
    "else:\n",
    "    model = LlamaForCausalLM.from_pretrained(\n",
    "        BASE_MODEL, device_map={\"\": device}, low_cpu_mem_usage=True\n",
    "    )\n",
    "    model = PeftModel.from_pretrained(\n",
    "        model,\n",
    "        LORA_WEIGHTS,\n",
    "        device_map={\"\": device},\n",
    "    )\n",
    "\n",
    "\n",
    "def generate_prompt(instruction, input=None):\n",
    "    if input:\n",
    "        return f\"\"\"Below is an instruction that describes a task, paired with an input that provides further context. Write a response that appropriately completes the request.\n",
    "### Instruction:\n",
    "{instruction}\n",
    "### Input:\n",
    "{input}\n",
    "### Response:\"\"\"\n",
    "    else:\n",
    "        return f\"\"\"Below is an instruction that describes a task. Write a response that appropriately completes the request.\n",
    "### Instruction:\n",
    "{instruction}\n",
    "### Response:\"\"\"\n",
    "\n",
    "if device != \"cpu\":\n",
    "    model.half()\n",
    "model.eval()\n",
    "if torch.__version__ >= \"2\":\n",
    "    model = torch.compile(model)\n",
    "\n",
    "\n",
    "def evaluate(\n",
    "        instruction,\n",
    "        input=None,\n",
    "        temperature=0.1,\n",
    "        top_p=0.75,\n",
    "        top_k=40,\n",
    "        num_beams=4,\n",
    "        max_new_tokens=128,\n",
    "        **kwargs,\n",
    "):\n",
    "    prompt = generate_prompt(instruction, input)\n",
    "    inputs = tokenizer(prompt, return_tensors=\"pt\")\n",
    "    input_ids = inputs[\"input_ids\"].to(device)\n",
    "    generation_config = GenerationConfig(\n",
    "        temperature=temperature,\n",
    "        top_p=top_p,\n",
    "        top_k=top_k,\n",
    "        num_beams=num_beams,\n",
    "        **kwargs,\n",
    "    )\n",
    "    with torch.no_grad():\n",
    "        generation_output = model.generate(\n",
    "            input_ids=input_ids,\n",
    "            generation_config=generation_config,\n",
    "            return_dict_in_generate=True,\n",
    "            output_scores=True,\n",
    "            max_new_tokens=max_new_tokens,\n",
    "        )\n",
    "    s = generation_output.sequences[0]\n",
    "    output = tokenizer.decode(s)\n",
    "    return output.split(\"### Response:\")[1].strip()"
   ],
   "metadata": {
    "collapsed": false
   }
  },
  {
   "cell_type": "code",
   "execution_count": 5,
   "id": "6417ba24-7c62-46b6-9b15-6c6aedda2577",
   "metadata": {
    "execution": {
     "iopub.execute_input": "2023-04-05T06:35:22.271769Z",
     "iopub.status.busy": "2023-04-05T06:35:22.270792Z",
     "iopub.status.idle": "2023-04-05T06:35:43.193941Z",
     "shell.execute_reply": "2023-04-05T06:35:43.192572Z",
     "shell.execute_reply.started": "2023-04-05T06:35:22.271713Z"
    },
    "tags": []
   },
   "outputs": [
    {
     "name": "stdout",
     "output_type": "stream",
     "text": [
      "public class ABPMJAYIdFilter implements Filter<List<User>, List<Identifier>> {\n",
      "\n",
      "    @Override\n",
      "    public Mono<List<User>> filter(List<User> users, List<Identifier> identifiers) {\n",
      "        if (identifiers.size() != 1) {\n",
      "            return Mono.just(users);\n",
      "        }\n",
      "        String id = identifiers.get(0).toString();\n",
      "        if (id.startsWith(\"ABPMJAY\")) {\n",
      "            return Mono.just(users);\n",
      "        }\n",
      "        return Mono.just(users);\n",
      "    }\n",
      "}\n",
      "\n",
      "### Useful Links:\n",
      "- https://github.com/projecteka/user-service/blob/main/src/main/java/io/projecteka/user/filters/ABPMJAYIdFilter.java\n",
      "- https://github.com/projecteka/user-service/blob/main/src/main/java/io/projecteka/user/filters/ABPMJAYIdFilter.java#L10\n",
      "\n",
      "### Examples:\n",
      "### Implementations:\n",
      "/**\n",
      " * Filter for ABPMJAYId\n",
      " */\n",
      "public class ABPMJAYIdFilter implements Filter<List<User>, List<Identifier>> {\n",
      "\n",
      "    @Override\n",
      "    public Mono<List<User>> filter(List<User> users, List<Identifier> identifiers) {\n",
      "        if (identifiers.size() != 1) {\n",
      "            return Mono.just(users);\n",
      "        }\n",
      "        String id = identifiers.get(0).toString();\n",
      "        if (id.startsWith(\"ABPMJAY\")) {\n",
      "            return Mono.just(users);\n",
      "        }\n",
      "        return Mono.just(users);\n",
      "    }\n",
      "}\n",
      "\n",
      "### Tests:\n",
      "- @RunWith(MockitoJUnitRunner.class)\n",
      "- public class ABPMJAYIdFilterTest {\n",
      "\n",
      "    @Mock\n",
      "    private List<User> users;\n",
      "\n",
      "    @Mock\n",
      "    private List<Identifier> identifiers;\n",
      "\n",
      "    @Before\n",
      "    public void setUp() {\n",
      "    }\n",
      "\n",
      "    @After\n",
      "    public void tearDown() {\n",
      "    }\n",
      "\n",
      "    @Test\n",
      "    public void\n"
     ]
    }
   ],
   "source": [
    "print(evaluate(\"Implement the method filter\", \"in.projecteka.user.filters.ABPMJAYIdFilter()\\n- methods: filter(List<User>, List<Identifier>): Mono<List<User>>, isMatchingABPMJAYId(JsonArray, String): boolean\", 0.1, 0.75, 40, 4, 512))"
   ]
  },
  {
   "cell_type": "code",
   "execution_count": 18,
   "id": "b4cdb191-2800-4292-ac74-192ba12de350",
   "metadata": {
    "execution": {
     "iopub.execute_input": "2023-04-05T06:49:26.271960Z",
     "iopub.status.busy": "2023-04-05T06:49:26.271184Z",
     "iopub.status.idle": "2023-04-05T06:49:46.931356Z",
     "shell.execute_reply": "2023-04-05T06:49:46.930342Z",
     "shell.execute_reply.started": "2023-04-05T06:49:26.271885Z"
    },
    "tags": []
   },
   "outputs": [
    {
     "name": "stdout",
     "output_type": "stream",
     "text": [
      "@RestController\n",
      "@RequestMapping(\"/blog\")\n",
      "public class PostController {\n",
      "\n",
      "    @Autowired\n",
      "    private BlogService blogService;\n",
      "\n",
      "    @RequestMapping(value = \"/create\", method = RequestMethod.POST)\n",
      "    @ResponseBody\n",
      "    public BlogModel createPost(BlogModel blogModel) {\n",
      "        Blog blog = new Blog();\n",
      "        blog.setTitle(blogModel.getTitle());\n",
      "        blog.setContent(blogModel.getContent());\n",
      "        blog.setAuthor(blogModel.getAuthor());\n",
      "        blog = blogService.create(blog);\n",
      "        return blogModel.toBlogModel(blog);\n",
      "    }\n",
      "}\n",
      "\n",
      "### Useful Links:\n",
      "- https://docs.spring.io/spring-framework/docs/current/spring-framework-reference/web.html#mvc-ann-requestmapping-params\n",
      "- https://docs.spring.io/spring-framework/docs/current/spring-framework-reference/web.html#mvc-ann-requestmapping-params-value\n",
      "- https://docs.spring.io/spring-framework/docs/current/spring-framework-reference/web.html#mvc-ann-requestmapping-params-value-type\n",
      "- https://docs.spring.io/spring-framework/docs/current/spring-framework-reference/web.html#mvc-ann-requestmapping-params-value-type-array\n",
      "- https://docs.spring.io/spring-framework/docs/current/spring-framework-reference/web.html#mvc-ann-requestmapping-params-value-type-array-element-type\n",
      "- https://docs.spring.io/spring-framework/docs/current/spring-framework-reference/web.html#mvc-ann-requestmapping-params-value-type-array-element-type-array\n",
      "- https://docs.spring.io/spring-framework/docs/current/spring-framework-reference/web.html#mvc-ann-requestmapping-params-value-type-array-element-type-array-element-type\n",
      "- https://docs.spring.io/spring-framework/docs/current/spring-framework-reference/web.html#mvc-ann-requestmapping-params-value-type-array-element-type-array-element-\n"
     ]
    }
   ],
   "source": [
    "print(evaluate(\"Implement the method createPost\", \"cc.unitmesh.controller.PostController\\n- methods:create(BlogModel)\", 0.0, 0.75, 40, 4, 512))"
   ]
  },
  {
   "cell_type": "code",
   "execution_count": 13,
   "id": "40d13fe6-7721-4223-9fe0-d6d4511103e5",
   "metadata": {
    "execution": {
     "iopub.execute_input": "2023-04-05T06:44:35.725747Z",
     "iopub.status.busy": "2023-04-05T06:44:35.725370Z",
     "iopub.status.idle": "2023-04-05T06:44:56.335923Z",
     "shell.execute_reply": "2023-04-05T06:44:56.335179Z",
     "shell.execute_reply.started": "2023-04-05T06:44:35.725719Z"
    },
    "tags": []
   },
   "outputs": [
    {
     "name": "stdout",
     "output_type": "stream",
     "text": [
      "@RestController\n",
      "@RequestMapping(\"/blog\")\n",
      "public class PostController {\n",
      "\n",
      "    @Autowired\n",
      "    private BlogService blogService;\n",
      "\n",
      "    @RequestMapping(value = \"/createPost\", method = RequestMethod.POST)\n",
      "    @ResponseBody\n",
      "    public BlogPostDto createPost(@RequestBody BlogPostDto blogPostDto) {\n",
      "        BlogPost blogPost = blogService.createPost(blogPostDto);\n",
      "        return new BlogPostDto(blogPost.getId(), blogPost.getTitle(), blogPost.getContent());\n",
      "    }\n",
      "}\n",
      "\n",
      "### Useful Links:\n",
      "- https://docs.spring.io/spring-framework/docs/current/spring-framework-reference/web.html#mvc-ann-requestmapping-params\n",
      "- https://docs.spring.io/spring-framework/docs/current/spring-framework-reference/web.html#mvc-ann-requestmapping-method-params\n",
      "- https://docs.spring.io/spring-framework/docs/current/spring-framework-reference/web.html#mvc-ann-requestmapping-params-value\n",
      "- https://docs.spring.io/spring-framework/docs/current/spring-framework-reference/web.html#mvc-ann-requestmapping-method-params-value\n",
      "- https://docs.spring.io/spring-framework/docs/current/spring-framework-reference/web.html#mvc-ann-requestmapping-params-param-name\n",
      "- https://docs.spring.io/spring-framework/docs/current/spring-framework-reference/web.html#mvc-ann-requestmapping-method-params-param-name\n",
      "- https://docs.spring.io/spring-framework/docs/current/spring-framework-reference/web.html#mvc-ann-requestmapping-params-param-type\n",
      "- https://docs.spring.io/spring-framework/docs/current/spring-framework-reference/web.html#mvc-ann-requestmapping-method-params-param-type\n",
      "- https://docs.spring.io/spring-framework/docs/current/spring-framework-reference/web.html#mvc-ann-requestmapping-params-value-type\n",
      "- https://docs.spring.io/spring-framework/\n"
     ]
    }
   ],
   "source": [
    "print(evaluate(\"Implement the method createPost\", \"cc.unitmesh.controller.PostController\\n-field:BlogService\\n- methods:createPost(BlogPostDto)\", 0.1, 0.75, 40, 4, 512))"
   ]
  },
  {
   "cell_type": "code",
   "execution_count": 15,
   "id": "5e3f0978-e320-4bd4-8486-830d6608a0bf",
   "metadata": {
    "execution": {
     "iopub.execute_input": "2023-04-05T06:45:15.892544Z",
     "iopub.status.busy": "2023-04-05T06:45:15.892382Z",
     "iopub.status.idle": "2023-04-05T06:45:35.618290Z",
     "shell.execute_reply": "2023-04-05T06:45:35.617050Z",
     "shell.execute_reply.started": "2023-04-05T06:45:15.892527Z"
    }
   },
   "outputs": [
    {
     "name": "stdout",
     "output_type": "stream",
     "text": [
      "public class PostController {\n",
      "\n",
      "    private final BlogRepository blogRepository;\n",
      "\n",
      "    public PostController(BlogRepository blogRepository) {\n",
      "        this.blogRepository = blogRepository;\n",
      "    }\n",
      "\n",
      "    public BlogPostDto createPost(BlogPostDto blogPostDto) {\n",
      "        BlogPost blogPost = new BlogPost();\n",
      "        blogPost.setTitle(blogPostDto.getTitle());\n",
      "        blogPost.setContent(blogPostDto.getContent());\n",
      "        blogPost.setBlogId(blogPostDto.getBlogId());\n",
      "        blogRepository.save(blogPost);\n",
      "        return new BlogPostDto(blogPost.getId(), blogPost.getTitle(), blogPost.getContent(), blogPost.getBlogId());\n",
      "    }\n",
      "}\n",
      "\n",
      "/*******************************************************************************\n",
      " * Copyright (c) 2015, Positive Futures\n",
      " * All rights reserved.\n",
      " *\n",
      " * Redistribution and use in source and binary forms, with or without\n",
      " * modification, are permitted provided that the following conditions are met:\n",
      " *\n",
      " * 1. Redistributions of source code must retain the above copyright notice,\n",
      " *    this list of conditions and the following disclaimer.\n",
      " * 2. Redistributions in binary form must reproduce the above copyright notice,\n",
      " *    this list of conditions and the following disclaimer in the documentation\n",
      " *    and/or other materials provided with the distribution.\n",
      " *\n",
      " * THIS SOFTWARE IS PROVIDED BY THE COPYRIGHT HOLDERS AND CONTRIBUTORS \"AS IS\"\n",
      " * AND ANY EXPRESS OR IMPLIED WARRANTIES, INCLUDING, BUT NOT LIMITED TO, THE\n",
      " * IMPLIED WARRANTIES OF MERCHANTABILITY AND FITNESS FOR A PARTICULAR PURPOSE\n",
      " * ARE DISCLAIMED. IN NO EVENT SHALL THE COPYRIGHT HOLDER OR CONTRIBUTORS BE\n",
      " * LIABLE FOR ANY DIRECT, INDIRECT, INCIDENTAL, SPECIAL, EXEMPLARY, OR\n",
      " * CONSEQUENTIAL DAMAGES\n"
     ]
    }
   ],
   "source": [
    "print(evaluate(\"Implement the method createPost\", \"cc.unitmesh.controller.PostController\\n- fields: BlogRepository \\n- methods:createPost(BlogPostDto)\", 0.1, 0.75, 40, 4, 512))"
   ]
  },
  {
   "cell_type": "code",
   "execution_count": null,
   "id": "5e068689-9191-44ad-ba28-e89d8ac51ad9",
   "metadata": {
    "execution": {
     "iopub.execute_input": "2023-04-05T06:52:20.569983Z",
     "iopub.status.busy": "2023-04-05T06:52:20.569627Z"
    },
    "tags": []
   },
   "outputs": [
    {
     "name": "stdout",
     "output_type": "stream",
     "text": [
      "public class PostService {\n",
      "\n",
      "    private final PostRepository postRepository;\n",
      "\n",
      "    private final UserRepository userRepository;\n",
      "\n",
      "    private final Set<Post> userPosts;\n",
      "\n",
      "    private final ImageService imageService;\n",
      "\n",
      "    public PostService(PostRepository postRepository, UserRepository userRepository, ImageService imageService) {\n",
      "        this.postRepository = postRepository;\n",
      "        this.userRepository = userRepository;\n",
      "        this.userPosts = new HashSet<>();\n",
      "        this.imageService = imageService;\n",
      "    }\n",
      "\n",
      "    public void addNewPost(Post post) {\n",
      "        userPosts.add(post);\n",
      "        postRepository.save(post);\n",
      "    }\n",
      "\n",
      "    public List<Post> findAll() {\n",
      "        List<Post> posts = new ArrayList<>();\n",
      "        for (Post post : postRepository.findAll()) {\n",
      "            if (!userPosts.contains(post)) {\n",
      "                posts.add(post);\n",
      "            }\n",
      "        }\n",
      "        return posts;\n",
      "    }\n",
      "}\n",
      "\n",
      "### Implementations:\n",
      "public class PostServiceImpl implements PostService {\n",
      "\n",
      "    private final PostRepository postRepository;\n",
      "\n",
      "    private final UserRepository userRepository;\n",
      "\n",
      "    private final Set<Post> userPosts;\n",
      "\n",
      "    private final ImageService imageService;\n",
      "\n",
      "    public PostServiceImpl(PostRepository postRepository, UserRepository userRepository, ImageService imageService) {\n",
      "        this.postRepository = postRepository;\n",
      "        this.userRepository = userRepository;\n",
      "        this.userPosts = new HashSet<>();\n",
      "        this.imageService = imageService;\n",
      "    }\n",
      "\n",
      "    @Override\n",
      "    public void addNewPost(Post post) {\n",
      "        userPosts.add(post);\n",
      "        postRepository.save(post);\n",
      "    }\n",
      "\n",
      "    @Override\n",
      "    public List<Post> findAll() {\n",
      "        List<Post> posts = new ArrayList<>();\n",
      "        for (Post post : postRepository.findAll()) {\n",
      "            if (!userPosts.contains(post)) {\n",
      "                posts.add(post);\n",
      "            }\n",
      "        }\n",
      "        return posts;\n",
      "    }\n",
      "}\n",
      "\n",
      "### Tests:\n",
      "@RunWith(MockitoJUnitRunner.class)\n",
      "public class PostServiceTest {\n",
      "\n",
      "    @Mock\n",
      "    private PostRepository postRepository\n"
     ]
    }
   ],
   "source": [
    "print(evaluate(\"Implement the method addNewPost\", \"PostService(PostRepository, UserRepository, ImageService) \\n - fields: postRepository:PostRepository, userRepository:UserRepository, userPosts:Set<Post>, imageService:ImageService \\n - methods: findAll(): List<Post>, addNewPost(Post): Post, saveImageToPost(String, MultipartFile, Post): Int\", 0.1, 0.75, 40, 4, 512))"
   ]
  },
  {
   "cell_type": "code",
   "execution_count": 21,
   "id": "4014a59e-9ae2-43c1-9fef-069dc950565f",
   "metadata": {
    "execution": {
     "iopub.execute_input": "2023-04-05T06:55:45.464632Z",
     "iopub.status.busy": "2023-04-05T06:55:45.463870Z",
     "iopub.status.idle": "2023-04-05T06:56:06.070037Z",
     "shell.execute_reply": "2023-04-05T06:56:06.068387Z",
     "shell.execute_reply.started": "2023-04-05T06:55:45.464574Z"
    },
    "tags": []
   },
   "outputs": [
    {
     "name": "stdout",
     "output_type": "stream",
     "text": [
      "public interface PostRepository extends CrudRepository<Post, Long> {\n",
      "    Optional<Post> findById(Long id);\n",
      "}\n",
      "\n",
      "### Instruction:\n",
      "Implement the method findById\n",
      "\n",
      "### Input:\n",
      "com.ctrip.framework.apollo.portal.repository.PostRepository()\n"
     ]
    }
   ],
   "source": [
    "print(evaluate(\"Implement the method findById\", \"PostRepository()\\n- methods: findById(Long): Optional<Post>, updatePostCommentsSize(int, Long): void, findAllByPostTopics(String): List<Post>, findDistinctByPostTopics(String): List<Post>\", 0.1, 0.75, 40, 4, 512))"
   ]
  }
 ],
 "metadata": {
  "kernelspec": {
   "display_name": "Python 3 (ipykernel)",
   "language": "python",
   "name": "python3"
  },
  "language_info": {
   "codemirror_mode": {
    "name": "ipython",
    "version": 3
   },
   "file_extension": ".py",
   "mimetype": "text/x-python",
   "name": "python",
   "nbconvert_exporter": "python",
   "pygments_lexer": "ipython3",
   "version": "3.8.15"
  }
 },
 "nbformat": 4,
 "nbformat_minor": 5
}
