{
 "cells": [
  {
   "cell_type": "code",
   "execution_count": 8,
   "id": "6417ba24-7c62-46b6-9b15-6c6aedda2577",
   "metadata": {
    "execution": {
     "iopub.execute_input": "2023-04-11T10:01:05.350841Z",
     "iopub.status.busy": "2023-04-11T10:01:05.350379Z",
     "iopub.status.idle": "2023-04-11T10:01:12.674039Z",
     "shell.execute_reply": "2023-04-11T10:01:12.673053Z",
     "shell.execute_reply.started": "2023-04-11T10:01:05.350823Z"
    },
    "tags": []
   },
   "outputs": [
    {
     "name": "stdout",
     "output_type": "stream",
     "text": [
      "@Query(\"SELECT * FROM person WHERE is_beautiful = 1\")\n",
      "    fun getMostBeautifulPerson(): List<Person>\n",
      "@Insert(onConflict = OnConflictStrategy.REPLACE)\n",
      "    fun insert(person: Person)\n",
      "@Query(\"SELECT * FROM geofences\")\n",
      "    fun getGeofences(): List<Geofence>\n",
      "@Query(\"SELECT * FROM ConversationRoleActionEntity\")\n",
      "    fun getAll(): List<ConversationRoleActionEntity>\n"
     ]
    }
   ],
   "source": [
    "evaluate(\"text to kotlin repository with class\", \"我想查询谁是最美丽的人\", 0.1, 0.75, 40, 4, 512)\n",
    "evaluate(\"text to kotlin repository with class\", \"小明今年几岁 \\n ### data class Person(val age: Int, val name: String)###\", 0.1, 0.75, 40, 4, 512)\n",
    "evaluate(\"text to kotlin repository with class\", \"我想获取所有当前未完成任务(tasks)中的活动地理围栏(geofences)，并返回这些地理围栏所关联的位置(places)信息以及任务(tasks)信息，以便于我的位置服务能够根据获得的信息正确地处理任务。\", 0.1, 0.75, 40, 4, 512)\n",
    "evaluate(\"text to kotlin repository with class\", \"我想获取所有对话角色操作（ConversationRoleActionEntity）的列表（List），以便于查看所有对话角色操作的详细信息。。 ###data class ConversationRoleActionEntity(val id: Int, val source: String, val target: String)###\", 0.1, 0.75, 40, 4, 512)"
   ]
  },
  {
   "cell_type": "code",
   "execution_count": 14,
   "id": "6d29e332-3d96-4081-a891-90326bf901e4",
   "metadata": {
    "execution": {
     "iopub.execute_input": "2023-04-11T10:07:27.597204Z",
     "iopub.status.busy": "2023-04-11T10:07:27.596923Z",
     "iopub.status.idle": "2023-04-11T10:07:29.312488Z",
     "shell.execute_reply": "2023-04-11T10:07:29.311197Z",
     "shell.execute_reply.started": "2023-04-11T10:07:27.597183Z"
    },
    "tags": []
   },
   "outputs": [
    {
     "name": "stdout",
     "output_type": "stream",
     "text": [
      "@Query(\"SELECT COUNT(*) FROM User WHERE age = :age\")\n",
      "    abstract fun getBlogCount(age: Int): Long\n"
     ]
    }
   ],
   "source": [
    "evaluate(\"text to kotlin repository with class\", \"我想查询指定年龄的用户（User）的博客数量。\\n ###data class User(var age: Int, val blogId: Int) data class Post(val title: String)###\", 0.1, 0.75, 40, 4, 512)\n"
   ]
  },
  {
   "cell_type": "code",
   "execution_count": null,
   "outputs": [],
   "source": [
    "evaluate(\"text to kotlin repository with class\", \"查询员工 id 为 325 的员工（员工信息数据表EMP）的名字和其所在部门（部门信息数据表 DEPT）的名字。\", 0.1, 0.75, 40, 4, 512)"
   ],
   "metadata": {
    "collapsed": false
   }
  }
 ],
 "metadata": {
  "kernelspec": {
   "display_name": "Python 3 (ipykernel)",
   "language": "python",
   "name": "python3"
  },
  "language_info": {
   "codemirror_mode": {
    "name": "ipython",
    "version": 3
   },
   "file_extension": ".py",
   "mimetype": "text/x-python",
   "name": "python",
   "nbconvert_exporter": "python",
   "pygments_lexer": "ipython3",
   "version": "3.8.13"
  }
 },
 "nbformat": 4,
 "nbformat_minor": 5
}
