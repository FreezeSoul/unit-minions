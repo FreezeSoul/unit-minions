{
 "cells": [
  {
   "cell_type": "code",
   "execution_count": null,
   "outputs": [],
   "source": [
    "## 2K 版本"
   ],
   "metadata": {
    "collapsed": false
   }
  },
  {
   "cell_type": "code",
   "execution_count": null,
   "outputs": [],
   "source": [
    "## 就在瞎说，忘了复制数据了"
   ],
   "metadata": {
    "collapsed": false
   }
  },
  {
   "cell_type": "code",
   "execution_count": null,
   "outputs": [],
   "source": [
    "## 4K 版本"
   ],
   "metadata": {
    "collapsed": false
   }
  },
  {
   "cell_type": "code",
   "execution_count": 10,
   "outputs": [
    {
     "name": "stdout",
     "output_type": "stream",
     "text": [
      "SELECT MOST BEAUTIFUL PERSON\n",
      "SELECT 年龄\n",
      "SELECT Hand Guard System FROM table WHERE Gas Piston Commando\n"
     ]
    }
   ],
   "source": [
    "evaluate(\"text to sql\", \"谁是最美丽的人\", 0.1, 0.75, 40, 4, 512)\n",
    "evaluate(\"text to sql\", \"小明今年几岁\", 0.1, 0.75, 40, 4, 512)\n",
    "evaluate(\"text to sql\", \"What hand guard system is used with a gas piston commando?\", 0.1, 0.75, 40, 4, 512)"
   ],
   "metadata": {
    "collapsed": false
   }
  }
 ],
 "metadata": {
  "kernelspec": {
   "display_name": "Python 3 (ipykernel)",
   "language": "python",
   "name": "python3"
  },
  "language_info": {
   "codemirror_mode": {
    "name": "ipython",
    "version": 3
   },
   "file_extension": ".py",
   "mimetype": "text/x-python",
   "name": "python",
   "nbconvert_exporter": "python",
   "pygments_lexer": "ipython3",
   "version": "3.8.15"
  }
 },
 "nbformat": 4,
 "nbformat_minor": 5
}
