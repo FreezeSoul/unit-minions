{
 "cells": [
  {
   "cell_type": "code",
   "execution_count": 7,
   "id": "6417ba24-7c62-46b6-9b15-6c6aedda2577",
   "metadata": {
    "execution": {
     "iopub.execute_input": "2023-04-06T14:18:26.680481Z",
     "iopub.status.busy": "2023-04-06T14:18:26.680058Z",
     "iopub.status.idle": "2023-04-06T14:18:31.744735Z",
     "shell.execute_reply": "2023-04-06T14:18:31.744218Z",
     "shell.execute_reply.started": "2023-04-06T14:18:26.680443Z"
    },
    "tags": []
   },
   "outputs": [
    {
     "name": "stdout",
     "output_type": "stream",
     "text": [
      "public class HelloTest {\n",
      "\n",
      "    @SpringBootTest(webEnvironment = SpringBootTest.WebEnvironment.NONE)\n",
      "    public class HelloTest {\n",
      "\n",
      "        @Test\n",
      "        public void shouldReturnGreetingsFromSpringBoot() {\n",
      "            assertThat(new Hello().hello(), is(\"Greetings from Spring Boot!\"));\n",
      "        }\n",
      "    }\n",
      "}\n"
     ]
    }
   ],
   "source": [
    "print(evaluate(\"write test\", \"\"\"\n",
    "public class Hello {\n",
    "\tpublic String hello() {\n",
    "\t\treturn \"Greetings from Spring Boot!\";\n",
    "\t}\n",
    "}\n",
    "\"\"\", 0.1, 0.75, 40, 4, 512))"
   ]
  },
  {
   "cell_type": "code",
   "execution_count": 8,
   "id": "ac4277d4-9b3c-4e6b-81ed-5fa476ff18c9",
   "metadata": {
    "execution": {
     "iopub.execute_input": "2023-04-06T14:19:19.080194Z",
     "iopub.status.busy": "2023-04-06T14:19:19.079791Z",
     "iopub.status.idle": "2023-04-06T14:19:46.790954Z",
     "shell.execute_reply": "2023-04-06T14:19:46.790365Z",
     "shell.execute_reply.started": "2023-04-06T14:19:19.080162Z"
    },
    "tags": []
   },
   "outputs": [
    {
     "name": "stdout",
     "output_type": "stream",
     "text": [
      "public class FibonacciTest {\n",
      "\n",
      "    public static int nthFibonacciTerm(int n) {\n",
      "        if(n == 0 || n == 1) {\n",
      "            return n;\n",
      "        }\n",
      "        int n0 = 0, n1 = 1;\n",
      "        int tempNthTerm;\n",
      "        for (int i = 2; i <= n; i++) {\n",
      "            tempNthTerm = n0 + n1;\n",
      "            n0 = n1;\n",
      "            n1 = tempNthTerm;\n",
      "        }\n",
      "        return n1;\n",
      "    }\n",
      "}\n"
     ]
    }
   ],
   "source": [
    "print(evaluate(\"write test\", \"\"\"\n",
    "public static int fibonacci(int n) {\n",
    "    if(n == 0 || n == 1) {\n",
    "        return n;\n",
    "    }\n",
    "    int n0 = 0, n1 = 1;\n",
    "    int tempNthTerm;\n",
    "    for (int i = 2; i <= n; i++) {\n",
    "        tempNthTerm = n0 + n1;\n",
    "        n0 = n1;\n",
    "        n1 = tempNthTerm;\n",
    "    }\n",
    "    return n1;\n",
    "}  \n",
    "\"\"\", 0.1, 0.75, 40, 4, 512))"
   ]
  },
  {
   "cell_type": "code",
   "execution_count": 9,
   "id": "5796f3db-f758-4ff8-b829-15c30fa8d1b4",
   "metadata": {
    "execution": {
     "iopub.execute_input": "2023-04-06T14:19:46.792256Z",
     "iopub.status.busy": "2023-04-06T14:19:46.792085Z",
     "iopub.status.idle": "2023-04-06T14:19:51.849873Z",
     "shell.execute_reply": "2023-04-06T14:19:51.849337Z",
     "shell.execute_reply.started": "2023-04-06T14:19:46.792238Z"
    },
    "tags": []
   },
   "outputs": [
    {
     "name": "stdout",
     "output_type": "stream",
     "text": [
      "public class ListFilesUsingJavaIOTest {\n",
      "\n",
      "    @Test\n",
      "    public void shouldListFilesUsingJavaIO() {\n",
      "        Set<String> files = ListFilesUsingJavaIO.listFilesUsingJavaIO(new File(\"dir\"));\n",
      "        assertThat(files, containsInAnyOrder(\"file1\", \"file2\", \"file3\"));\n",
      "    }\n",
      "}\n"
     ]
    }
   ],
   "source": [
    "print(evaluate(\"write test\", \"\"\"\n",
    "public Set<String> listFilesUsingJavaIO(String dir) {\n",
    "    return Stream.of(new File(dir).listFiles())\n",
    "      .filter(file -> !file.isDirectory())\n",
    "      .map(File::getName)\n",
    "      .collect(Collectors.toSet());\n",
    "}\n",
    "\"\"\", 0.1, 0.75, 40, 4, 512))"
   ]
  },
  {
   "cell_type": "code",
   "execution_count": 11,
   "id": "787ea521-ef82-42c0-96ba-b27d33961454",
   "metadata": {
    "execution": {
     "iopub.execute_input": "2023-04-06T14:21:09.714799Z",
     "iopub.status.busy": "2023-04-06T14:21:09.714552Z",
     "iopub.status.idle": "2023-04-06T14:21:37.441154Z",
     "shell.execute_reply": "2023-04-06T14:21:37.440672Z",
     "shell.execute_reply.started": "2023-04-06T14:21:09.714779Z"
    },
    "tags": []
   },
   "outputs": [
    {
     "name": "stdout",
     "output_type": "stream",
     "text": [
      "@RunWith(PowerMockRunner.class)\n",
      "@PrepareForTest(Files.class)\n",
      "public class DirectoryStreamTest {\n",
      "\n",
      "    @Mock(strictness = Mock.Strictness.LENIENT)\n",
      "    private File dir;\n",
      "\n",
      "    @Mock(strictness = Mock.Strictness.LENIENT)\n",
      "    private File file;\n",
      "\n",
      "    @Mock(strictness = Mock.Strictness.LENIENT)\n",
      "    private File file2;\n",
      "\n",
      "    @Mock(strictness = Mock.Strictness.LENIENT)\n",
      "    private File file3;\n",
      "\n",
      "    @Mock(strictness = Mock.Strictness.LENIENT)\n",
      "    private File file4;\n",
      "\n",
      "    @Mock(strictness = Mock.Strictness.LENIENT)\n",
      "    private File file5;\n",
      "\n",
      "    @Mock(strictness = Mock.Strictness.LENIENT)\n",
      "    private File file6;\n",
      "\n",
      "    @Mock(strictness = Mock.Strictness.LENIENT)\n",
      "    private File file7;\n",
      "\n",
      "    @Mock(strictness = Mock.Strictness.LENIENT)\n",
      "    private File file8;\n",
      "\n",
      "    @Mock(strictness = Mock.Strictness.LENIENT)\n",
      "    private File file9;\n",
      "\n",
      "    @Mock(strictness = Mock.Strictness.LENIENT)\n",
      "    private File file10;\n",
      "\n",
      "    @Mock(strictness = Mock.Strictness.LENIENT)\n",
      "    private File file11;\n",
      "\n",
      "    @Mock(strictness = Mock.Strictness.LENIENT)\n",
      "    private File file12;\n",
      "\n",
      "    @Mock(strictness = Mock.Strictness.LENIENT)\n",
      "    private File file13;\n",
      "\n",
      "    @Mock(strictness = Mock.Strictness.LENIENT)\n",
      "    private File file14;\n",
      "\n",
      "    @Mock(strictness = Mock.Strictness.LENIENT)\n",
      "    private File file15;\n",
      "\n",
      "    @Mock(strictness = Mock.Strictness.LENIENT)\n",
      "    private File file16;\n",
      "\n",
      "    @Mock(strictness = Mock.Strictness.LENI\n"
     ]
    }
   ],
   "source": [
    "print(evaluate(\"write test\", \"\"\"\n",
    "public Set<String> listFilesUsingDirectoryStream(String dir) throws IOException {\n",
    "    Set<String> fileSet = new HashSet<>();\n",
    "    try (DirectoryStream<Path> stream = Files.newDirectoryStream(Paths.get(dir))) {\n",
    "        for (Path path : stream) {\n",
    "            if (!Files.isDirectory(path)) {\n",
    "                fileSet.add(path.getFileName()\n",
    "                    .toString());\n",
    "            }\n",
    "        }\n",
    "    }\n",
    "    return fileSet;\n",
    "}\n",
    "\"\"\", 0.1, 0.75, 40, 4, 512))"
   ]
  },
  {
   "cell_type": "code",
   "execution_count": 13,
   "id": "21f871a1-7c21-4c4c-8b52-508d7936e5b8",
   "metadata": {
    "execution": {
     "iopub.execute_input": "2023-04-06T14:23:01.886688Z",
     "iopub.status.busy": "2023-04-06T14:23:01.886440Z",
     "iopub.status.idle": "2023-04-06T14:23:29.803207Z",
     "shell.execute_reply": "2023-04-06T14:23:29.802681Z",
     "shell.execute_reply.started": "2023-04-06T14:23:01.886660Z"
    },
    "tags": []
   },
   "outputs": [
    {
     "name": "stdout",
     "output_type": "stream",
     "text": [
      "public class GetLowestDistanceNodeTest {\n",
      "\n",
      "    @Test\n",
      "    public void getLowestDistanceNode_shouldReturnTheNodeWithTheLowestDistance() {\n",
      "        Set < Node > unsettledNodes = new HashSet<>();\n",
      "        unsettledNodes.add(new Node(1, 1));\n",
      "        unsettledNodes.add(new Node(2, 2));\n",
      "        unsettledNodes.add(new Node(3, 3));\n",
      "        unsettledNodes.add(new Node(4, 4));\n",
      "        unsettledNodes.add(new Node(5, 5));\n",
      "        unsettledNodes.add(new Node(6, 6));\n",
      "        unsettledNodes.add(new Node(7, 7));\n",
      "        unsettledNodes.add(new Node(8, 8));\n",
      "        unsettledNodes.add(new Node(9, 9));\n",
      "        unsettledNodes.add(new Node(10, 10));\n",
      "        unsettledNodes.add(new Node(11, 11));\n",
      "        unsettledNodes.add(new Node(12, 12));\n",
      "        unsettledNodes.add(new Node(13, 13));\n",
      "        unsettledNodes.add(new Node(14, 14));\n",
      "        unsettledNodes.add(new Node(15, 15));\n",
      "        unsettledNodes.add(new Node(16, 16));\n",
      "        unsettledNodes.add(new Node(17, 17));\n",
      "        unsettledNodes.add(new Node(18, 18));\n",
      "        unsettledNodes.add(new Node(19, 19));\n",
      "        unsettledNodes.add(new Node(20, 20));\n",
      "        unsettledNodes.add(new Node(21, 21));\n",
      "        unsettledNodes.add(new Node(22, 22));\n",
      "        unsettledNodes.add(new Node(23, 23));\n",
      "        unsettledNodes.add(new Node(24, 24));\n",
      "        unsettledNodes.add(new Node(25, 25));\n"
     ]
    }
   ],
   "source": [
    "print(evaluate(\"write test\", \"\"\"\n",
    "private static Node getLowestDistanceNode(Set < Node > unsettledNodes) {\n",
    "    Node lowestDistanceNode = null;\n",
    "    int lowestDistance = Integer.MAX_VALUE;\n",
    "    for (Node node: unsettledNodes) {\n",
    "        int nodeDistance = node.getDistance();\n",
    "        if (nodeDistance < lowestDistance) {\n",
    "            lowestDistance = nodeDistance;\n",
    "            lowestDistanceNode = node;\n",
    "        }\n",
    "    }\n",
    "    return lowestDistanceNode;\n",
    "}\n",
    "\"\"\", 0.1, 0.75, 40, 4, 512))"
   ]
  }
 ],
 "metadata": {
  "kernelspec": {
   "display_name": "Python 3 (ipykernel)",
   "language": "python",
   "name": "python3"
  },
  "language_info": {
   "codemirror_mode": {
    "name": "ipython",
    "version": 3
   },
   "file_extension": ".py",
   "mimetype": "text/x-python",
   "name": "python",
   "nbconvert_exporter": "python",
   "pygments_lexer": "ipython3",
   "version": "3.8.15"
  }
 },
 "nbformat": 4,
 "nbformat_minor": 5
}
