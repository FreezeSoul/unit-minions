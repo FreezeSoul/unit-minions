{
 "cells": [
  {
   "cell_type": "code",
   "execution_count": 9,
   "id": "6417ba24-7c62-46b6-9b15-6c6aedda2577",
   "metadata": {
    "execution": {
     "iopub.execute_input": "2023-04-06T12:07:33.839705Z",
     "iopub.status.busy": "2023-04-06T12:07:33.839287Z",
     "iopub.status.idle": "2023-04-06T12:08:01.551734Z",
     "shell.execute_reply": "2023-04-06T12:08:01.551137Z",
     "shell.execute_reply.started": "2023-04-06T12:07:33.839672Z"
    },
    "tags": []
   },
   "outputs": [
    {
     "name": "stdout",
     "output_type": "stream",
     "text": [
      "用户故事：可以购买电影票\n",
      "作为一个电影票购买者\n",
      "我想在购买电影票应用中购买电影票\n",
      "以便于我可以购买电影票\n",
      "AC 1: 电影票购买者可以在购买电影票应用中购买电影票\n",
      "假设 电影票购买者已经登录购买电影票应用\n",
      "当 电影票购买者点击“购买电影票”按钮\n",
      "于是 电影票购买者可以在购买电影票应用中购买电影票\n",
      "AC 2: 电影票购买者可以在购买电影票应用中查看购买记录\n",
      "假设 电影票购买者已经登录购买电影票应用\n",
      "当 电影票购买者点击“查看购买记录”按钮\n",
      "于是 电影票购买者可以在购买电影票应用中查看购买记录\n",
      "AC 3: 电影票购买者可以在购买电影票应用中查看购买记录\n",
      "假设 电影票购买者已经登录购买电影票应用\n",
      "当 电影票购买者点击“查看购买记录”按��\n"
     ]
    }
   ],
   "source": [
    "print(evaluate(\"create Agile user story for following topic: \", \"购买电影票\", 0.1, 0.75, 40, 4, 512))"
   ]
  },
  {
   "cell_type": "code",
   "execution_count": 10,
   "id": "ac4277d4-9b3c-4e6b-81ed-5fa476ff18c9",
   "metadata": {
    "execution": {
     "iopub.execute_input": "2023-04-06T12:08:17.479095Z",
     "iopub.status.busy": "2023-04-06T12:08:17.478794Z",
     "iopub.status.idle": "2023-04-06T12:08:45.086176Z",
     "shell.execute_reply": "2023-04-06T12:08:45.085599Z",
     "shell.execute_reply.started": "2023-04-06T12:08:17.479076Z"
    }
   },
   "outputs": [
    {
     "name": "stdout",
     "output_type": "stream",
     "text": [
      "用户可以注册于团购网站\n",
      "AC 1: 用户可以注册于团购网站\n",
      "假设 用户想要注册于团购网站\n",
      "当 用户点击注册按钮\n",
      "于是 用户可以完成注册操作\n",
      "AC 2: 用户可以通过用户名和密码注册于团购网站\n",
      "假设 用户想要通过用户名和密码注册于团购网站\n",
      "当 用户点击注册按钮\n",
      "于是 用户可以通过用户名和密码注册于团购网站\n",
      "AC 3: 用户可以通过手机号注册于团购网站\n",
      "假设 用户想要通过手机号注册于团购网站\n",
      "当 用户点击注册按钮\n",
      "于是 用户可以通过手机号注册于团购网站\n",
      "AC 4: 用户可以通过邮箱注册于团购网站\n",
      "假设 用户想要通过邮箱注册于团购网站\n",
      "当 用户点击注册按钮\n",
      "于是 用户可以通过邮箱注册于团购网站\n",
      "AC 5: 用户可以通过微信注册于团购网站\n",
      "假设 用户想要通过微信注册于团购网站\n",
      "当 用户点击注册按钮\n",
      "于是 用户可以通过微信注册于团购网站\n",
      "AC 6: 用户可以通过QQ\n"
     ]
    }
   ],
   "source": [
    "print(evaluate(\"create Agile user story for following topic: \", \"团购网站:用户注册\", 0.1, 0.75, 40, 4, 512))"
   ]
  },
  {
   "cell_type": "code",
   "execution_count": 15,
   "id": "5796f3db-f758-4ff8-b829-15c30fa8d1b4",
   "metadata": {
    "execution": {
     "iopub.execute_input": "2023-04-06T12:12:00.079935Z",
     "iopub.status.busy": "2023-04-06T12:12:00.079567Z",
     "iopub.status.idle": "2023-04-06T12:12:27.731988Z",
     "shell.execute_reply": "2023-04-06T12:12:27.731460Z",
     "shell.execute_reply.started": "2023-04-06T12:12:00.079910Z"
    },
    "tags": []
   },
   "outputs": [
    {
     "name": "stdout",
     "output_type": "stream",
     "text": [
      "用户故事：可以发表新文章\n",
      "作为一个博客网站的用户\n",
      "我想在博客网站上发表新文章\n",
      "以便于我可以向大家分享我的最新想法\n",
      "AC 1: 用户可以在博客网站上发表新文章\n",
      "假设 用户已经登录了博客网站\n",
      "当 用户点击“发表新文章”按钮\n",
      "于是 用户可以发表新文章\n",
      "AC 2: 用户可以在博客网站上发表新文章\n",
      "假设 用户已经登录了博客网站\n",
      "于是 用户可以发表新文章\n",
      "AC 3: 用户可以在博客网站上发表新文章\n",
      "AC 4: 用户可以在博客网站上发表新文章\n",
      "AC 5: 用户可以在博客网站上发表新文章\n",
      "AC 6: 用户可以在博客网站上发表新文章\n",
      "AC 7: 用户可以在博客网站上发表新文章\n",
      "AC 8: 用户可以在博客网站上发表新文章\n",
      "AC 9: 用户可以在博客网站上发表新文章\n",
      "AC 10: 用户可以在博客网站上发表新文章\n",
      "AC 11: 用户可以在博客网站上发表新文章\n",
      "AC 12: 用户可以在博客网站上发表新文章\n",
      "AC 13: 用户可以在博客网站上发表新文章\n",
      "AC 14: 用户可以在博客网站上发表新文章\n",
      "AC 15: 用户可以在博客网站上发表新文章\n",
      "AC 16: 用户可以在博客网站上发表新文章\n",
      "AC 17: 用户可以在博客网站上发表新文章\n",
      "AC 18: 用\n"
     ]
    }
   ],
   "source": [
    "print(evaluate(\"create Agile user story for following topic: \", \"博客网站:发表新文章\", 0.1, 0.75, 40, 4, 512))"
   ]
  },
  {
   "cell_type": "code",
   "execution_count": 17,
   "id": "787ea521-ef82-42c0-96ba-b27d33961454",
   "metadata": {
    "execution": {
     "iopub.execute_input": "2023-04-06T12:14:14.822201Z",
     "iopub.status.busy": "2023-04-06T12:14:14.821945Z",
     "iopub.status.idle": "2023-04-06T12:14:42.537742Z",
     "shell.execute_reply": "2023-04-06T12:14:42.537166Z",
     "shell.execute_reply.started": "2023-04-06T12:14:14.822182Z"
    },
    "tags": []
   },
   "outputs": [
    {
     "name": "stdout",
     "output_type": "stream",
     "text": [
      "用户故事：可以发送文本信息\n",
      "作为 一个用户\n",
      "我想 发送文本信息\n",
      "以便于 我能够更好地与其他用户交流\n",
      "\n",
      "AC 1: 用户可以发送文本信息\n",
      "假设 用户已经登录了应用\n",
      "当 用户点击发送文本信息按钮\n",
      "于是 用户可以发送文本信息\n",
      "\n",
      "AC 2: 用户可以查看发送的文本信息\n",
      "假设 用户已经发送了文本信息\n",
      "当 用户点击查看发送的文本信息按钮\n",
      "于是 用户可以查看发送的文本信息\n",
      "\n",
      "AC 3: 用户可以编辑发送的文本信息\n",
      "假设 用户已经发送了文本信息\n",
      "当 用户点击编辑发送的文本信息按钮\n",
      "于是 用户可以编辑发送的文本信息\n",
      "\n",
      "AC 4: 用户可以删除发送的文本信息\n",
      "假设 用户已经发送了文本信息\n",
      "当 用户点击删除发送的文本信息按钮\n",
      "于是 用户可以删除发送的文本信息\n",
      "\n",
      "AC 5: 用户可以查看发送的文本信息的详细信息\n",
      "假设 用户已经发送了文本信息\n",
      "当 用户点击查看发送的文本信息的详细信息按钮\n",
      "于是 用户可以查看发送的文本信息的详细信息\n",
      "\n",
      "AC 6: 用户可以编辑发送的文本信息的详细信息\n",
      "假设 用户已经发送了文本信息\n",
      "当 用户点击编辑发送的文本信\n"
     ]
    }
   ],
   "source": [
    "print(evaluate(\"create Agile user story for following topic: \", \"发送文本信息\", 0.1, 0.75, 40, 4, 512))"
   ]
  },
  {
   "cell_type": "code",
   "execution_count": 20,
   "id": "eb1fed8d-d320-40f5-9c18-2ade6bdd8ba2",
   "metadata": {
    "execution": {
     "iopub.execute_input": "2023-04-06T12:17:10.055726Z",
     "iopub.status.busy": "2023-04-06T12:17:10.055282Z",
     "iopub.status.idle": "2023-04-06T12:17:37.834270Z",
     "shell.execute_reply": "2023-04-06T12:17:37.833725Z",
     "shell.execute_reply.started": "2023-04-06T12:17:10.055687Z"
    },
    "tags": []
   },
   "outputs": [
    {
     "name": "stdout",
     "output_type": "stream",
     "text": [
      "用户故事：可以支付商品的订单\n",
      "作为 一个 京西商城 用户\n",
      "我 想 支付 商品的订单\n",
      "以便 于 我可以收到 商品\n",
      "以便 于 我可以收到 商品\n",
      "AC 1: 用户可以支付 商品的订单\n",
      "假设 用户已经选择了 商品\n",
      "当 用户点击 支付按钮\n",
      "于是 用户可以支付 商品的订单\n",
      "AC 2: 用户可以查看 商品的订单信息\n",
      "假设 用户已经支付 商品的订单\n",
      "当 用户点击 查看订单信息按钮\n",
      "于是 用户可以查看 商品的订单信息\n",
      "AC 3: 用户可以查看 商品的订单支付状态\n",
      "假设 用户已经支付 商品的订单\n",
      "当 用户点击 查看订单支付状态按钮\n",
      "于是 用户可以查看 商品的订单支付状态\n",
      "AC 4: 用户可以查看 商品的订单支付时间\n",
      "假设 用户已经支付 商品的订单\n",
      "当 用户点击 查看订单支付时间按钮\n",
      "于是 用户可以查看 商品的订单支付时间\n",
      "AC 5: 用户可以查看 商品的订单支付结果\n",
      "假设 用户已经支付 商品的订单\n",
      "当 用户点击 查看订单支付结果按钮\n",
      "于是 用户可以查看 商品的订单支付结果\n",
      "AC 6: 用户可以查看 商品的��\n"
     ]
    }
   ],
   "source": [
    "print(evaluate(\"create Agile user story for following topic: \", \"京西商城：支付商品的订单\", 0.1, 0.75, 40, 4, 512))"
   ]
  },
  {
   "cell_type": "code",
   "execution_count": null,
   "id": "672a7195-b816-45c2-a3b6-266b5ae2e8e6",
   "metadata": {},
   "outputs": [],
   "source": []
  }
 ],
 "metadata": {
  "kernelspec": {
   "display_name": "Python 3 (ipykernel)",
   "language": "python",
   "name": "python3"
  },
  "language_info": {
   "codemirror_mode": {
    "name": "ipython",
    "version": 3
   },
   "file_extension": ".py",
   "mimetype": "text/x-python",
   "name": "python",
   "nbconvert_exporter": "python",
   "pygments_lexer": "ipython3",
   "version": "3.8.15"
  }
 },
 "nbformat": 4,
 "nbformat_minor": 5
}
