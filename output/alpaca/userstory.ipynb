{
 "cells": [
  {
   "cell_type": "code",
   "execution_count": 3,
   "outputs": [
    {
     "name": "stdout",
     "output_type": "stream",
     "text": [
      "用户故事：可以注册外卖骑士\n",
      "作为一个美团外卖应用的用户\n",
      "我想在美团外卖应用中注册外卖骑士\n",
      "以便于我可以在美团外卖应用中发布自己的骑士服务\n",
      "AC 1: 用户可以在美团外卖应用中注册外卖骑士\n",
      "AC 2: 用户可以在美团外卖应用中发布自己的骑士服务\n",
      "AC 3: 用户可以在美团外卖应用中查看自己的骑士服务\n",
      "AC 4: 用户可以在美团外卖应用中查看自己的骑士服务的详情\n",
      "AC 5: 用户可以在美团外卖应用中查看自己的骑士服务的详情\n",
      "AC 6: 用户可以在美团外卖应用中查看自己的骑士服务的详情\n",
      "AC 7: 用户可以在美团外卖应用中查看自己的骑士服务的详情\n",
      "AC 8: 用户可以在美团外卖应用中查看自己的骑士服务的详情\n",
      "AC 9: 用户可以在美团外卖应用中查看自己的骑士服务的详情\n",
      "AC 10: 用户可以在美团外卖应用中查看自己的骑士服务的详情\n",
      "AC 11: 用户可以在美团外卖应用中查看自��\n"
     ]
    }
   ],
   "source": [
    "evaluate(\"create Agile user story for following topic: \", \"美团外卖：注册外卖骑士\")"
   ],
   "metadata": {
    "collapsed": false
   }
  },
  {
   "cell_type": "code",
   "execution_count": 6,
   "id": "b5bbbb56-01f2-4114-bcd3-d26ade8f8cba",
   "metadata": {
    "execution": {
     "iopub.execute_input": "2023-04-08T06:47:21.009460Z",
     "iopub.status.busy": "2023-04-08T06:47:21.009299Z",
     "iopub.status.idle": "2023-04-08T06:47:41.595706Z",
     "shell.execute_reply": "2023-04-08T06:47:41.594466Z",
     "shell.execute_reply.started": "2023-04-08T06:47:21.009445Z"
    },
    "tags": []
   },
   "outputs": [
    {
     "name": "stdout",
     "output_type": "stream",
     "text": [
      "用户故事：可以查看订单详情\n",
      "作为一个电影网站的用户\n",
      "我想在电影网站中查看订单详情\n",
      "以便于我可以查看订单详情，包括订单号、订单金额、支付方式等信息\n",
      "\n",
      "AC 1: 用户可以查看订单详情\n",
      "假设 用户点击查看订单详情按钮\n",
      "当 用户点击查看订单详情按钮\n",
      "于是 用户可以查看订单详情，包括订单号、订单金额、支付方式等信息\n",
      "\n",
      "AC 2: 用户可以查看订单详情\n",
      "假设 用户点击查看订单详情按钮\n",
      "当 用户点击查看订单详情按钮\n",
      "于是 用户可以查看订单详情，包括订单号、订单金额、支付方式等信息\n",
      "\n",
      "AC 3: 用户可以查看订单详情\n",
      "假设 用户点击查看订单详情按钮\n",
      "当 用户点击查看订单详情按钮\n",
      "于是 用户可以查看订单详情，包括订单号、订单金额、支付方式等信息\n",
      "\n",
      "AC 4: 用户可以查看订单详情\n",
      "假设 用户点击查看订单详情按钮\n",
      "当 用户点击查看订单详情按钮\n",
      "于是 用户可以查看订单详情\n"
     ]
    }
   ],
   "source": [
    "evaluate(\"create Agile user story for following topic: \", \"电影网站: 查看订单详情\")"
   ]
  },
  {
   "cell_type": "code",
   "execution_count": 5,
   "id": "509b29a3-8c5b-476f-9571-0b5fc42252b8",
   "metadata": {
    "execution": {
     "iopub.execute_input": "2023-04-08T06:47:00.514727Z",
     "iopub.status.busy": "2023-04-08T06:47:00.513915Z",
     "iopub.status.idle": "2023-04-08T06:47:21.007675Z",
     "shell.execute_reply": "2023-04-08T06:47:21.006406Z",
     "shell.execute_reply.started": "2023-04-08T06:47:00.514711Z"
    }
   },
   "outputs": [
    {
     "name": "stdout",
     "output_type": "stream",
     "text": [
      "用户可以注册于团购网站\n",
      "AC 1: 用户可以注册于团购网站\n",
      "假设 用户想要注册于团购网站\n",
      "当 用户点击注册按钮\n",
      "于是 用户可以完成注册操作\n",
      "AC 2: 用户可以通过用户名和密码注册于团购网站\n",
      "假设 用户想要通过用户名和密码注册于团购网站\n",
      "当 用户输入用户名和密码\n",
      "于是 用户可以通过用户名和密码注册于团购网站\n",
      "AC 3: 用户可以通过手机号注册于团购网站\n",
      "假设 用户想要通过手机号注册于团购网站\n",
      "当 用户输入手机号\n",
      "于是 用户可以通过手机号注册于团购网站\n",
      "AC 4: 用户可以通过邮箱注册于团购网站\n",
      "假设 用户想要通过邮箱注册于团购网站\n",
      "当 用户输入邮箱地址\n",
      "于是 用户可以通过邮箱注册于团购网站\n",
      "AC 5: 用户可以通过微信注册于团购网站\n",
      "假设 用户想要通过微信注册于团购网站\n",
      "当 用户输入微信号\n",
      "于是 用户可以通过微信注册于团购网站\n",
      "AC 6: 用户可以通过QQ注册于团购网\n"
     ]
    }
   ],
   "source": [
    "evaluate(\"create Agile user story for following topic: \", \"团购网站:用户注册\")"
   ]
  },
  {
   "cell_type": "code",
   "execution_count": 7,
   "id": "c9677896-b355-4cab-b6ee-aab1b47854f0",
   "metadata": {
    "execution": {
     "iopub.execute_input": "2023-04-08T06:47:41.596998Z",
     "iopub.status.busy": "2023-04-08T06:47:41.596824Z",
     "iopub.status.idle": "2023-04-08T06:48:02.044807Z",
     "shell.execute_reply": "2023-04-08T06:48:02.043763Z",
     "shell.execute_reply.started": "2023-04-08T06:47:41.596984Z"
    }
   },
   "outputs": [
    {
     "name": "stdout",
     "output_type": "stream",
     "text": [
      "用户故事：可以发表新文章\n",
      "作为一个博客网站的用户\n",
      "我想在博客网站上发表新文章\n",
      "以便于我可以向大家分享我的最新想法\n",
      "AC 1: 用户可以在博客网站上发表新文章\n",
      "假设 用户已经登录了博客网站\n",
      "当 用户点击“发表新文章”按钮\n",
      "于是 用户可以发表新文章\n",
      "AC 2: 用户可以在博客网站上发表新文章\n",
      "假设 用户已经登录了博客网站\n",
      "于是 用户可以发表新文章\n",
      "AC 3: 用户可以在博客网站上发表新文章\n",
      "AC 4: 用户可以在博客网站上发表新文章\n",
      "AC 5: 用户可以在博客网站上发表新文章\n",
      "AC 6: 用户可以在博客网站上发表新文章\n",
      "AC 7: 用户可以在博客网站上发表新文章\n",
      "AC 8: 用户可以在博客网站上发表新文章\n",
      "AC 9: 用户可以在博客网站上发表新文章\n",
      "AC 10: 用户可以在博客网站上发表新文章\n",
      "AC 11: 用户可以在博客网站上发表新文章\n",
      "AC 12: 用户可以在博客网站上发表新文章\n",
      "AC 13: 用户可以在博客网站上发表新文章\n",
      "AC 14: 用户可以在博客网站上发表新文章\n",
      "AC 15: 用户可以在博客网站上发表新文章\n",
      "AC 16: 用户可以在博客网站上发表新文章\n",
      "AC 17: 用户可以在博客网站上发表新文章\n",
      "AC 18: 用\n"
     ]
    }
   ],
   "source": [
    "evaluate(\"create Agile user story for following topic: \", \"博客网站:发表新文章\")"
   ]
  },
  {
   "cell_type": "code",
   "execution_count": 8,
   "id": "6a1de211-49a8-404a-ae36-7a926be094f6",
   "metadata": {
    "execution": {
     "iopub.execute_input": "2023-04-08T06:48:02.046720Z",
     "iopub.status.busy": "2023-04-08T06:48:02.045940Z",
     "iopub.status.idle": "2023-04-08T06:48:22.499056Z",
     "shell.execute_reply": "2023-04-08T06:48:22.498179Z",
     "shell.execute_reply.started": "2023-04-08T06:48:02.046704Z"
    }
   },
   "outputs": [
    {
     "name": "stdout",
     "output_type": "stream",
     "text": [
      "用户故事：可以填写订单信息\n",
      "作为 一个京西商城的用户\n",
      "我想 在商城的订单页面中填写订单信息\n",
      "以便于 我可以更好地查询订单信息\n",
      "AC 1: 用户可以填写订单信息\n",
      "假设 用户已经登录商城\n",
      "当 用户点击订单页面\n",
      "于是 用户可以填写订单信息\n",
      "AC 2: 用户可以查看订单信息\n",
      "假设 用户已经填写订单信息\n",
      "当 用户点击查看订单信息\n",
      "于是 用户可以查看订单信息\n",
      "AC 3: 用户可以编辑订单信息\n",
      "假设 用户已经查看订单信息\n",
      "当 用户点击编辑订单信息\n",
      "于是 用户可以编辑订单信息\n",
      "AC 4: 用户可以删除订单信息\n",
      "假设 用户已经编辑订单信息\n",
      "当 用户点击删除订单信息\n",
      "于是 用户可以删除订单信息\n",
      "AC 5: 用户可以更新订单信息\n",
      "假设 用户已经编辑或删除订单信息\n",
      "当 用户点击更新订单信息\n",
      "于是 用户可以更新订单信息\n",
      "AC 6: 用户可以查看订单金额\n",
      "假设 用户已经更新订单信息\n",
      "当 用户点击查看订单金额\n",
      "于是 用户可以查看订单金额\n",
      "AC 7: 用户可以查看\n"
     ]
    }
   ],
   "source": [
    "evaluate(\"create Agile user story for following topic: \", \"京西商城：填写订单信息\")"
   ]
  },
  {
   "cell_type": "code",
   "execution_count": 9,
   "id": "36dcd561-26e0-4ff1-b525-3b8ff1325178",
   "metadata": {
    "execution": {
     "iopub.execute_input": "2023-04-08T06:48:22.500279Z",
     "iopub.status.busy": "2023-04-08T06:48:22.499972Z",
     "iopub.status.idle": "2023-04-08T06:48:42.950814Z",
     "shell.execute_reply": "2023-04-08T06:48:42.949737Z",
     "shell.execute_reply.started": "2023-04-08T06:48:22.500265Z"
    }
   },
   "outputs": [
    {
     "name": "stdout",
     "output_type": "stream",
     "text": [
      "用户故事：可以发送文本信息\n",
      "作为 一个巨信聊天应用的用户\n",
      "我想 发送文本信息\n",
      "以便于 我能够更好地与其他用户交流\n",
      "\n",
      "AC 1: 用户可以发送文本信息\n",
      "假设 用户已经登录了巨信聊天应用\n",
      "当 用户点击“发送文本信息”按钮\n",
      "于是 用户可以发送文本信息给其他用户\n",
      "\n",
      "AC 2: 用户可以查看发送的文本信息\n",
      "假设 用户已经收到了文本信息\n",
      "当 用户点击“查看发送的文本信息”按钮\n",
      "于是 用户可以查看发送的文本信息\n",
      "\n",
      "AC 3: 用户可以删除发送的文本信息\n",
      "假设 用户已经收到了文本信息\n",
      "当 用户点击“删除发送的文本信息”按钮\n",
      "于是 用户可以删除发送的文本信息\n",
      "\n",
      "AC 4: 用户可以编辑发送的文本信息\n",
      "假设 用户已经收到了文本信息\n",
      "当 用户点击“编辑发送的文本信息”按钮\n",
      "于是 用户可以编辑发送的文本信息\n",
      "\n",
      "### Instruction:\n",
      "create Agile user story for following topic: \n",
      "### Input:\n",
      "巨信聊天：发送文本信息\n"
     ]
    }
   ],
   "source": [
    "evaluate(\"create Agile user story for following topic: \", \"巨信聊天：发送文本信息\")"
   ]
  }
 ],
 "metadata": {
  "kernelspec": {
   "display_name": "Python 3 (ipykernel)",
   "language": "python",
   "name": "python3"
  },
  "language_info": {
   "codemirror_mode": {
    "name": "ipython",
    "version": 3
   },
   "file_extension": ".py",
   "mimetype": "text/x-python",
   "name": "python",
   "nbconvert_exporter": "python",
   "pygments_lexer": "ipython3",
   "version": "3.8.15"
  }
 },
 "nbformat": 4,
 "nbformat_minor": 5
}
