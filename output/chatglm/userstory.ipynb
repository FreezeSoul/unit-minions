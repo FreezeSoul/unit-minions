{
 "cells": [
  {
   "cell_type": "code",
   "execution_count": 7,
   "id": "b7a02b2c-7e7f-47ce-a0a6-42c057c3517d",
   "metadata": {
    "execution": {
     "iopub.execute_input": "2023-04-08T06:31:24.461858Z",
     "iopub.status.busy": "2023-04-08T06:31:24.461339Z",
     "iopub.status.idle": "2023-04-08T06:31:29.132904Z",
     "shell.execute_reply": "2023-04-08T06:31:29.132376Z",
     "shell.execute_reply.started": "2023-04-08T06:31:24.461823Z"
    },
    "tags": []
   },
   "outputs": [
    {
     "name": "stdout",
     "output_type": "stream",
     "text": [
      "Instruction: create Agile user story for following topic \n",
      "Input: 美团外卖：注册外卖骑士\n",
      "美团外卖:注册外卖骑士\n",
      "\n",
      "AC 1: 用户可以注册外卖骑士\n",
      "假设 用户已经登录了美团外卖账号\n",
      "当 用户点击注册外卖骑士按钮\n",
      "于是 系统会提示用户输入手机号码,并发送验证码到用户的手机号码\n",
      "\n",
      "AC 2: 用户可以查看外卖骑士的个人信息\n",
      "假设 用户已经注册了外卖骑士\n",
      "当 用户点击外卖骑士的个人信息按钮\n",
      "于是 系统会显示用户的个人信息,包括姓名、地址、电话等\n"
     ]
    }
   ],
   "source": [
    "evaluate(\"Instruction: create Agile user story for following topic \\nInput: 美团外卖：注册外卖骑士\")"
   ]
  },
  {
   "cell_type": "code",
   "execution_count": 8,
   "id": "97ee5148-a6b5-4388-bad8-a315f66a7fab",
   "metadata": {
    "execution": {
     "iopub.execute_input": "2023-04-08T06:31:33.794894Z",
     "iopub.status.busy": "2023-04-08T06:31:33.794499Z",
     "iopub.status.idle": "2023-04-08T06:31:37.009625Z",
     "shell.execute_reply": "2023-04-08T06:31:37.009117Z",
     "shell.execute_reply.started": "2023-04-08T06:31:33.794861Z"
    },
    "tags": []
   },
   "outputs": [
    {
     "name": "stdout",
     "output_type": "stream",
     "text": [
      "Instruction: 创建用户故事\n",
      "Input: 电影网站:购买电影票\n",
      "Answer:\n",
      "用户故事:可以在电影网站购买电影票\n",
      "作为一个电影爱好者\n",
      "我想在电影网站购买电影票\n",
      "以便于我可以在电影院观看电影\n",
      "\n",
      "AC 1: 电影爱好者可以在电影网站购买电影票\n",
      "假设 电影爱好者已经登录了电影网站\n",
      "当 电影爱好者点击购买电影票按钮\n",
      "于是 电影爱好者可以在电影网站购买电影票\n"
     ]
    }
   ],
   "source": [
    "evaluate(\"Instruction: 创建用户故事\\nInput: 电影网站:购买电影票\\nAnswer:\")"
   ]
  },
  {
   "cell_type": "code",
   "execution_count": 9,
   "id": "d575f044-e6df-4752-92bb-9e5a9b7bb2bf",
   "metadata": {
    "execution": {
     "iopub.execute_input": "2023-04-08T06:31:47.070624Z",
     "iopub.status.busy": "2023-04-08T06:31:47.070331Z",
     "iopub.status.idle": "2023-04-08T06:31:52.270944Z",
     "shell.execute_reply": "2023-04-08T06:31:52.270422Z",
     "shell.execute_reply.started": "2023-04-08T06:31:47.070601Z"
    },
    "tags": []
   },
   "outputs": [
    {
     "name": "stdout",
     "output_type": "stream",
     "text": [
      "Instruction: 创建用户故事\n",
      "Input: 团购网站:用户注册\n",
      "Answer:\n",
      "团购网站的用户注册故事:\n",
      "\n",
      "作为一个团购网站的用户\n",
      "\n",
      "我想注册一个团购网站的用户账号\n",
      "\n",
      "以便于我可以使用团购服务,如购买商品、服务等。\n",
      "\n",
      "AC 1: 团购网站的用户注册账号\n",
      "假设 用户输入了注册信息\n",
      "当 用户提交注册信息\n",
      "于是 用户可以成功注册一个团购网站的用户账号\n",
      "\n",
      "AC 2: 团购网站的用户注册账号\n",
      "假设 用户输入了错误的注册信息\n",
      "当 用户提交注册信息\n",
      "于是 用户可以被提示输入正确的注册信息,并重新提交注册信息\n"
     ]
    }
   ],
   "source": [
    "evaluate(\"Instruction: 创建用户故事\\nInput: 团购网站:用户注册\\nAnswer:\")"
   ]
  },
  {
   "cell_type": "code",
   "execution_count": 10,
   "id": "dcf83312-6949-4284-ad75-50ad083de35c",
   "metadata": {
    "execution": {
     "iopub.execute_input": "2023-04-08T06:31:52.271946Z",
     "iopub.status.busy": "2023-04-08T06:31:52.271783Z",
     "iopub.status.idle": "2023-04-08T06:31:56.072283Z",
     "shell.execute_reply": "2023-04-08T06:31:56.071787Z",
     "shell.execute_reply.started": "2023-04-08T06:31:52.271931Z"
    },
    "tags": []
   },
   "outputs": [
    {
     "name": "stdout",
     "output_type": "stream",
     "text": [
      "Instruction: 创建用户故事\n",
      "Input: 博客网站:发表新文章\n",
      "Answer:\n",
      "\n",
      "\n",
      "用户故事:可以在博客网站上发表新文章\n",
      "作为一个博客作者\n",
      "我想在博客网站上发表新文章\n",
      "以便于我可以发布最新的博客内容,并且可以吸引更多的读者。\n",
      "\n",
      "AC 1: 博客作者可以在博客网站上发表新文章\n",
      "假设 博客作者已经登录博客网站\n",
      "当 博客作者点击发表新文章按钮\n",
      "于是 博客作者可以在博客网站上发表新文章\n"
     ]
    }
   ],
   "source": [
    "evaluate(\"Instruction: 创建用户故事\\nInput: 博客网站:发表新文章\\nAnswer:\")"
   ]
  },
  {
   "cell_type": "code",
   "execution_count": null,
   "id": "8ef11023-c3a7-4ae4-81d7-43eaed264065",
   "metadata": {
    "execution": {
     "iopub.execute_input": "2023-04-08T06:31:56.073066Z",
     "iopub.status.busy": "2023-04-08T06:31:56.072826Z"
    },
    "tags": []
   },
   "outputs": [],
   "source": [
    "evaluate(\"Instruction: 创建用户故事\\nInput: 京西商城：支付商品的订单\\nAnswer:\")"
   ]
  },
  {
   "cell_type": "code",
   "execution_count": null,
   "id": "cc61e2c8-b5b7-4949-bf27-926fa485b802",
   "metadata": {
    "tags": []
   },
   "outputs": [],
   "source": [
    "evaluate(\"Instruction: 创建用户故事\\nInput: 发送文本信息\\nAnswer:\")"
   ]
  }
 ],
 "metadata": {
  "kernelspec": {
   "display_name": "Python 3 (ipykernel)",
   "language": "python",
   "name": "python3"
  },
  "language_info": {
   "codemirror_mode": {
    "name": "ipython",
    "version": 3
   },
   "file_extension": ".py",
   "mimetype": "text/x-python",
   "name": "python",
   "nbconvert_exporter": "python",
   "pygments_lexer": "ipython3",
   "version": "3.8.15"
  }
 },
 "nbformat": 4,
 "nbformat_minor": 5
}
