{
 "cells": [
  {
   "cell_type": "markdown",
   "id": "d8471d07-54fd-4d90-823e-1b84c9009294",
   "metadata": {
    "tags": []
   },
   "source": [
    "## 任意Prompt推理"
   ]
  },
  {
   "cell_type": "code",
   "execution_count": 19,
   "id": "b7a02b2c-7e7f-47ce-a0a6-42c057c3517d",
   "metadata": {
    "execution": {
     "iopub.execute_input": "2023-04-08T06:35:31.278376Z",
     "iopub.status.busy": "2023-04-08T06:35:31.277932Z",
     "iopub.status.idle": "2023-04-08T06:35:38.123368Z",
     "shell.execute_reply": "2023-04-08T06:35:38.122851Z",
     "shell.execute_reply.started": "2023-04-08T06:35:31.278358Z"
    },
    "tags": []
   },
   "outputs": [
    {
     "name": "stdout",
     "output_type": "stream",
     "text": [
      "Instruction: create Agile user story for following topic \n",
      "Input: 美团外卖：注册外卖骑士\n",
      "美团外卖:注册外卖骑士\n",
      "\n",
      "作为 美团外卖的用户\n",
      "我想 注册一个外卖骑士\n",
      "以便于 我可以使用外卖骑士的功能\n",
      "\n",
      "AC 1: 美团外卖的用户可以使用注册表单注册外卖骑士\n",
      "假设 用户输入了注册表单中的所有信息\n",
      "当 用户提交注册表单\n",
      "于是 用户可以注册一个外卖骑士\n",
      "\n",
      "AC 2: 美团外卖的用户可以使用手机号码注册外卖骑士\n",
      "假设 用户输入了手机号码\n",
      "当 用户提交注册表单\n",
      "于是 用户可以注册一个外卖骑士\n",
      "\n",
      "AC 3: 美团外卖的用户可以使用邮箱地址注册外卖骑士\n",
      "假设 用户输入了邮箱地址\n",
      "当 用户提交注册表单\n",
      "于是 用户可以注册一个外卖骑士\n"
     ]
    }
   ],
   "source": [
    "evaluate(\"Instruction: create Agile user story for following topic \\nInput: 美团外卖：注册外卖骑士\")"
   ]
  },
  {
   "cell_type": "code",
   "execution_count": 29,
   "id": "97ee5148-a6b5-4388-bad8-a315f66a7fab",
   "metadata": {
    "execution": {
     "iopub.execute_input": "2023-04-08T06:40:36.303556Z",
     "iopub.status.busy": "2023-04-08T06:40:36.303171Z",
     "iopub.status.idle": "2023-04-08T06:40:42.404154Z",
     "shell.execute_reply": "2023-04-08T06:40:42.403640Z",
     "shell.execute_reply.started": "2023-04-08T06:40:36.303527Z"
    },
    "tags": []
   },
   "outputs": [
    {
     "name": "stdout",
     "output_type": "stream",
     "text": [
      "Instruction: 创建用户故事\n",
      "Input: 电影网站: 查看订单详情 \n",
      "Answer:\n",
      "\n",
      "用户故事:可以查看订单详情\n",
      "作为一个电影网站的用户\n",
      "我想查看订单详情\n",
      "以便于我可以了解订单的详细信息,如订单号、订单状态、订单内容等。\n",
      "\n",
      "AC 1: 用户可以查看订单详情\n",
      "假设 用户已经登录\n",
      "当 用户点击查看订单详情按钮\n",
      "于是 用户可以查看订单详情,包括订单号、订单状态、订单内容等。\n",
      "\n",
      "AC 2: 用户可以查看订单详情\n",
      "假设 用户没有登录\n",
      "当 用户点击查看订单详情按钮\n",
      "于是 用户被要求先登录,然后才能查看订单详情,包括订单号、订单状态、订单内容等。\n"
     ]
    }
   ],
   "source": [
    "evaluate(\"Instruction: 创建用户故事\\nInput: 电影网站: 查看订单详情 \\nAnswer:\")"
   ]
  },
  {
   "cell_type": "code",
   "execution_count": 9,
   "id": "d575f044-e6df-4752-92bb-9e5a9b7bb2bf",
   "metadata": {
    "execution": {
     "iopub.execute_input": "2023-04-08T06:31:47.070624Z",
     "iopub.status.busy": "2023-04-08T06:31:47.070331Z",
     "iopub.status.idle": "2023-04-08T06:31:52.270944Z",
     "shell.execute_reply": "2023-04-08T06:31:52.270422Z",
     "shell.execute_reply.started": "2023-04-08T06:31:47.070601Z"
    },
    "tags": []
   },
   "outputs": [
    {
     "name": "stdout",
     "output_type": "stream",
     "text": [
      "Instruction: 创建用户故事\n",
      "Input: 团购网站:用户注册\n",
      "Answer:\n",
      "团购网站的用户注册故事:\n",
      "\n",
      "作为一个团购网站的用户\n",
      "\n",
      "我想注册一个团购网站的用户账号\n",
      "\n",
      "以便于我可以使用团购服务,如购买商品、服务等。\n",
      "\n",
      "AC 1: 团购网站的用户注册账号\n",
      "假设 用户输入了注册信息\n",
      "当 用户提交注册信息\n",
      "于是 用户可以成功注册一个团购网站的用户账号\n",
      "\n",
      "AC 2: 团购网站的用户注册账号\n",
      "假设 用户输入了错误的注册信息\n",
      "当 用户提交注册信息\n",
      "于是 用户可以被提示输入正确的注册信息,并重新提交注册信息\n"
     ]
    }
   ],
   "source": [
    "evaluate(\"Instruction: 创建用户故事\\nInput: 团购网站:用户注册\\nAnswer:\")"
   ]
  },
  {
   "cell_type": "code",
   "execution_count": 10,
   "id": "dcf83312-6949-4284-ad75-50ad083de35c",
   "metadata": {
    "execution": {
     "iopub.execute_input": "2023-04-08T06:31:52.271946Z",
     "iopub.status.busy": "2023-04-08T06:31:52.271783Z",
     "iopub.status.idle": "2023-04-08T06:31:56.072283Z",
     "shell.execute_reply": "2023-04-08T06:31:56.071787Z",
     "shell.execute_reply.started": "2023-04-08T06:31:52.271931Z"
    },
    "tags": []
   },
   "outputs": [
    {
     "name": "stdout",
     "output_type": "stream",
     "text": [
      "Instruction: 创建用户故事\n",
      "Input: 博客网站:发表新文章\n",
      "Answer:\n",
      "\n",
      "\n",
      "用户故事:可以在博客网站上发表新文章\n",
      "作为一个博客作者\n",
      "我想在博客网站上发表新文章\n",
      "以便于我可以发布最新的博客内容,并且可以吸引更多的读者。\n",
      "\n",
      "AC 1: 博客作者可以在博客网站上发表新文章\n",
      "假设 博客作者已经登录博客网站\n",
      "当 博客作者点击发表新文章按钮\n",
      "于是 博客作者可以在博客网站上发表新文章\n"
     ]
    }
   ],
   "source": [
    "evaluate(\"Instruction: 创建用户故事\\nInput: 博客网站:发表新文章\\nAnswer:\")"
   ]
  },
  {
   "cell_type": "code",
   "execution_count": 26,
   "id": "8ef11023-c3a7-4ae4-81d7-43eaed264065",
   "metadata": {
    "execution": {
     "iopub.execute_input": "2023-04-08T06:38:37.700745Z",
     "iopub.status.busy": "2023-04-08T06:38:37.700452Z",
     "iopub.status.idle": "2023-04-08T06:38:41.301980Z",
     "shell.execute_reply": "2023-04-08T06:38:41.301479Z",
     "shell.execute_reply.started": "2023-04-08T06:38:37.700727Z"
    },
    "tags": []
   },
   "outputs": [
    {
     "name": "stdout",
     "output_type": "stream",
     "text": [
      "Instruction: 创建用户故事\n",
      "Input: 京西商城：填写订单信息 \n",
      "Answer:\n",
      "用户故事:可以在京西商城填写订单信息\n",
      "作为一个京西商城的用户\n",
      "我想在购物时填写订单信息\n",
      "以便于我能够完成订单\n",
      "\n",
      "AC 1: 用户可以在京西商城填写订单信息\n",
      "假设 用户已经选择了商品\n",
      "当 用户点击提交订单按钮\n",
      "于是 用户可以在订单信息表单中填写订单信息,并提交订单\n"
     ]
    }
   ],
   "source": [
    "evaluate(\"Instruction: 创建用户故事\\nInput: 京西商城：填写订单信息 \\nAnswer:\")"
   ]
  },
  {
   "cell_type": "code",
   "execution_count": null,
   "id": "cc61e2c8-b5b7-4949-bf27-926fa485b802",
   "metadata": {
    "execution": {
     "iopub.execute_input": "2023-04-08T06:33:05.605308Z",
     "iopub.status.busy": "2023-04-08T06:33:05.604871Z"
    },
    "tags": []
   },
   "outputs": [
    {
     "name": "stdout",
     "output_type": "stream",
     "text": [
      "Instruction: 创建用户故事 \n",
      "Input: 巨信聊天：发送文本信息\n",
      "Answer:\n",
      "\n",
      "作为一个巨信聊天应用的用户\n",
      "我想要发送文本信息\n",
      "以便于我能够与朋友进行有效的沟通\n",
      "\n",
      "AC 1: 用户可以发送文本信息\n",
      "假设 用户已经登录巨信聊天应用\n",
      "当 用户点击发送按钮\n",
      "于是 用户可以选择发送文本信息\n"
     ]
    }
   ],
   "source": [
    "evaluate(\"Instruction: 创建用户故事 \\nInput: 巨信聊天：发送文本信息\\nAnswer:\")"
   ]
  },
  {
   "cell_type": "code",
   "execution_count": null,
   "id": "f6c7ac53-77cd-4070-acbc-82c39e175328",
   "metadata": {},
   "outputs": [],
   "source": [
    "evaluate(\"Instruction: 创建用户故事 \\nInput: 巨信聊天：发送文本信息\\nAnswer:\")"
   ]
  }
 ],
 "metadata": {
  "kernelspec": {
   "display_name": "Python 3 (ipykernel)",
   "language": "python",
   "name": "python3"
  },
  "language_info": {
   "codemirror_mode": {
    "name": "ipython",
    "version": 3
   },
   "file_extension": ".py",
   "mimetype": "text/x-python",
   "name": "python",
   "nbconvert_exporter": "python",
   "pygments_lexer": "ipython3",
   "version": "3.8.15"
  }
 },
 "nbformat": 4,
 "nbformat_minor": 5
}
