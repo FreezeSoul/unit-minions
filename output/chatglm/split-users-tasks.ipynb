{
 "cells": [
  {
   "cell_type": "code",
   "execution_count": 15,
   "id": "b7a02b2c-7e7f-47ce-a0a6-42c057c3517d",
   "metadata": {
    "execution": {
     "iopub.execute_input": "2023-04-08T03:30:53.894528Z",
     "iopub.status.busy": "2023-04-08T03:30:53.894167Z",
     "iopub.status.idle": "2023-04-08T03:30:56.448861Z",
     "shell.execute_reply": "2023-04-08T03:30:56.448036Z",
     "shell.execute_reply.started": "2023-04-08T03:30:53.894496Z"
    },
    "tags": []
   },
   "outputs": [
    {
     "name": "stdout",
     "output_type": "stream",
     "text": [
      "Instruction: create userstory tasks \n",
      "Input: 淘宝\n",
      "Answer:\n",
      "\n",
      "User Tasks:\n",
      "1. Create an account\n",
      "2. Log in to the application\n",
      "3. View available products\n",
      "4. Select a product to view\n",
      "5. View product details\n",
      "6. Purchase a product\n",
      "7. Log out of the application\n"
     ]
    }
   ],
   "source": [
    "evaluate(\"Instruction: create userstory tasks \\nInput: 淘宝\\nAnswer:\")"
   ]
  },
  {
   "cell_type": "code",
   "execution_count": 16,
   "id": "97ee5148-a6b5-4388-bad8-a315f66a7fab",
   "metadata": {
    "execution": {
     "iopub.execute_input": "2023-04-08T03:31:07.644922Z",
     "iopub.status.busy": "2023-04-08T03:31:07.644688Z",
     "iopub.status.idle": "2023-04-08T03:31:17.814575Z",
     "shell.execute_reply": "2023-04-08T03:31:17.814001Z",
     "shell.execute_reply.started": "2023-04-08T03:31:07.644905Z"
    },
    "tags": []
   },
   "outputs": [
    {
     "name": "stdout",
     "output_type": "stream",
     "text": [
      "Instruction: create userstory tasks \n",
      "Input: 电影网站\n",
      "Answer:\n",
      "\n",
      "User Tasks:\n",
      "1. Search for movies\n",
      "2. View movie details\n",
      "3. Add movies to favorites\n",
      "4. View movie ratings and reviews\n",
      "5. View movie schedules\n",
      "6. View movie ratings and reviews\n",
      "7. Share movies with friends\n",
      "8. View movie trailers\n",
      "9. View movie budgets\n",
      "10. View movie theaters near me\n",
      "11. View movie theaters list\n",
      "12. View movie theaters near location\n",
      "13. View movie tips and tricks\n",
      "14. View movie tutorials\n",
      "15. View movie trailers\n",
      "16. View movie trailers\n",
      "17. View movie trailers\n",
      "18. View movie trailers\n",
      "19. View movie trailers\n",
      "20. View movie trailers\n",
      "21. View movie trailers\n",
      "22. View movie trailers\n",
      "23. View movie trailers\n",
      "24. View movie trailers\n",
      "25. View movie trailers\n",
      "26. View movie trailers\n",
      "27. View movie trailers\n",
      "28. View movie trailers\n",
      "29. View movie trailers\n",
      "30. View movie trailers\n"
     ]
    }
   ],
   "source": [
    "evaluate(\"Instruction: create userstory tasks \\nInput: 电影网站\\nAnswer:\")"
   ]
  },
  {
   "cell_type": "code",
   "execution_count": 17,
   "id": "d575f044-e6df-4752-92bb-9e5a9b7bb2bf",
   "metadata": {
    "execution": {
     "iopub.execute_input": "2023-04-08T03:31:25.867355Z",
     "iopub.status.busy": "2023-04-08T03:31:25.866894Z",
     "iopub.status.idle": "2023-04-08T03:31:32.472933Z",
     "shell.execute_reply": "2023-04-08T03:31:32.472405Z",
     "shell.execute_reply.started": "2023-04-08T03:31:25.867333Z"
    },
    "tags": []
   },
   "outputs": [
    {
     "name": "stdout",
     "output_type": "stream",
     "text": [
      "Instruction: create userstory tasks \n",
      "Input: 团购网站\n",
      "Answer:\n",
      "\n",
      "User Tasks:\n",
      "1. Search for团购商品\n",
      "2. View团购信息\n",
      "3. Add团购商品 to cart\n",
      "4. Make payment\n",
      "5. Receive团购商品\n",
      "6. View团购商品\n",
      "7. Share团购商品\n",
      "8. Check out团购商品\n",
      "9. Receive团购 result\n",
      "10. View团购信息\n",
      "11. Make团购信息\n",
      "12. Check团购信息\n",
      "13. Check out团购信息\n",
      "14. Make payment团购\n",
      "15. View团购信息\n",
      "16. View团购商品\n",
      "17. View团购评论\n",
      "18. Leave团购评论\n",
      "19. Get团购 feedback\n",
      "20. Get团购 update\n"
     ]
    }
   ],
   "source": [
    "evaluate(\"Instruction: create userstory tasks \\nInput: 团购网站\\nAnswer:\")"
   ]
  },
  {
   "cell_type": "code",
   "execution_count": 18,
   "id": "dcf83312-6949-4284-ad75-50ad083de35c",
   "metadata": {
    "execution": {
     "iopub.execute_input": "2023-04-08T03:31:43.360085Z",
     "iopub.status.busy": "2023-04-08T03:31:43.359666Z",
     "iopub.status.idle": "2023-04-08T03:31:47.588396Z",
     "shell.execute_reply": "2023-04-08T03:31:47.587879Z",
     "shell.execute_reply.started": "2023-04-08T03:31:43.360051Z"
    },
    "tags": []
   },
   "outputs": [
    {
     "name": "stdout",
     "output_type": "stream",
     "text": [
      "Instruction: create userstory tasks \n",
      "Input: 博客网站\n",
      "Answer:\n",
      "\n",
      "User Tasks:\n",
      "1. Search for博客网站\n",
      "2. View博客网站\n",
      "3. Follow other users\n",
      "4. Create and save的博客 posts\n",
      "5. View博客 post\n",
      "6. Share博客 post\n",
      "7. Write and save blog posts\n",
      "8. View blog posts\n",
      "9. Edit blog posts\n",
      "10. Follow other bloggers\n",
      "11. View bloggers' blog posts\n",
      "12. View blog posts by other bloggers\n"
     ]
    }
   ],
   "source": [
    "evaluate(\"Instruction: create userstory tasks \\nInput: 博客网站\\nAnswer:\")"
   ]
  },
  {
   "cell_type": "code",
   "execution_count": 19,
   "id": "8ef11023-c3a7-4ae4-81d7-43eaed264065",
   "metadata": {
    "execution": {
     "iopub.execute_input": "2023-04-08T03:31:55.227645Z",
     "iopub.status.busy": "2023-04-08T03:31:55.227415Z",
     "iopub.status.idle": "2023-04-08T03:31:59.225141Z",
     "shell.execute_reply": "2023-04-08T03:31:59.224614Z",
     "shell.execute_reply.started": "2023-04-08T03:31:55.227628Z"
    },
    "tags": []
   },
   "outputs": [
    {
     "name": "stdout",
     "output_type": "stream",
     "text": [
      "Instruction: create userstory tasks \n",
      "Input: 京西商城\n",
      "Answer:\n",
      "\n",
      "User Tasks:\n",
      "1. Search for products by category\n",
      "2. View product details\n",
      "3. Add products to cart\n",
      "4. Checkout and pay for products\n",
      "5. Receive order confirmation\n",
      "6. Track order status\n",
      "7. View order history\n",
      "8. Leave feedback on product quality, service, or other issues\n",
      "9. Contact customer service for assistance\n",
      "10. Read product descriptions and reviews\n"
     ]
    }
   ],
   "source": [
    "evaluate(\"Instruction: create userstory tasks \\nInput: 京西商城\\nAnswer:\")"
   ]
  },
  {
   "cell_type": "code",
   "execution_count": null,
   "id": "cc61e2c8-b5b7-4949-bf27-926fa485b802",
   "metadata": {
    "tags": []
   },
   "outputs": [],
   "source": [
    "evaluate(\"Instruction: create userstory tasks \\nInput: 大信聊天\\nAnswer:\")"
   ]
  },
  {
   "cell_type": "code",
   "execution_count": null,
   "id": "554b18da-0b1a-4ea1-b4c0-f5a7e0802f5c",
   "metadata": {},
   "outputs": [],
   "source": []
  }
 ],
 "metadata": {
  "kernelspec": {
   "display_name": "Python 3 (ipykernel)",
   "language": "python",
   "name": "python3"
  },
  "language_info": {
   "codemirror_mode": {
    "name": "ipython",
    "version": 3
   },
   "file_extension": ".py",
   "mimetype": "text/x-python",
   "name": "python",
   "nbconvert_exporter": "python",
   "pygments_lexer": "ipython3",
   "version": "3.8.15"
  }
 },
 "nbformat": 4,
 "nbformat_minor": 5
}
