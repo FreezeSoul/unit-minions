{
 "cells": [
  {
   "cell_type": "code",
   "execution_count": 11,
   "id": "b7a02b2c-7e7f-47ce-a0a6-42c057c3517d",
   "metadata": {
    "execution": {
     "iopub.execute_input": "2023-04-12T03:07:42.649670Z",
     "iopub.status.busy": "2023-04-12T03:07:42.649433Z",
     "iopub.status.idle": "2023-04-12T03:07:45.315062Z",
     "shell.execute_reply": "2023-04-12T03:07:45.314551Z",
     "shell.execute_reply.started": "2023-04-12T03:07:42.649654Z"
    },
    "tags": []
   },
   "outputs": [
    {
     "name": "stdout",
     "output_type": "stream",
     "text": [
      "Instruction: 招赢通平台是什么？ \n",
      "Input: \n",
      "Answer:\n",
      "招赢通平台是招商银行推出的一款金融信息交易应用,旨在为投资者提供安全可靠、高效便捷的金融信息交易服务。通过招赢通平台,投资者可以交易招商银行发行的债券、资产支持证券、债券融资计划、债务融资工具、金融债等金融产品。\n"
     ]
    }
   ],
   "source": [
    "evaluate(\"Instruction: 招赢通平台是什么？ \\nInput: \\nAnswer:\")"
   ]
  },
  {
   "cell_type": "code",
   "execution_count": 13,
   "id": "554b18da-0b1a-4ea1-b4c0-f5a7e0802f5c",
   "metadata": {
    "execution": {
     "iopub.execute_input": "2023-04-12T03:08:50.713602Z",
     "iopub.status.busy": "2023-04-12T03:08:50.713357Z",
     "iopub.status.idle": "2023-04-12T03:09:02.144852Z",
     "shell.execute_reply": "2023-04-12T03:09:02.144324Z",
     "shell.execute_reply.started": "2023-04-12T03:08:50.713579Z"
    },
    "tags": []
   },
   "outputs": [
    {
     "name": "stdout",
     "output_type": "stream",
     "text": [
      "Instruction: create Agile user story for following topic \n",
      "Input: 购买债券 \n",
      "Answer:\n",
      "\n",
      "作为敏捷用户故事:购买债券\n",
      "\n",
      "作为一个敏捷用户故事:购买债券\n",
      "\n",
      "目标: \n",
      "\n",
      "我作为一个敏捷用户故事:购买债券\n",
      "\n",
      "目标: \n",
      "\n",
      "实现: \n",
      "\n",
      "作为一个敏捷用户故事:购买债券\n",
      "\n",
      "实现: \n",
      "\n",
      "- 用户可以在敏捷应用中购买债券\n",
      "- 用户可以在敏捷应用中查看债券详细信息\n",
      "- 用户可以在敏捷应用中查看债券交易详细信息\n"
     ]
    }
   ],
   "source": [
    "evaluate(\"Instruction: create Agile user story for following topic \\nInput: 招赢通平台:购买债券 \\nAnswer:\")"
   ]
  },
  {
   "cell_type": "code",
   "execution_count": null,
   "id": "fa8607aa-158f-4daa-8ba5-ec4ffa28a58f",
   "metadata": {},
   "outputs": [],
   "source": []
  }
 ],
 "metadata": {
  "kernelspec": {
   "display_name": "Python 3 (ipykernel)",
   "language": "python",
   "name": "python3"
  },
  "language_info": {
   "codemirror_mode": {
    "name": "ipython",
    "version": 3
   },
   "file_extension": ".py",
   "mimetype": "text/x-python",
   "name": "python",
   "nbconvert_exporter": "python",
   "pygments_lexer": "ipython3",
   "version": "3.8.15"
  }
 },
 "nbformat": 4,
 "nbformat_minor": 5
}
