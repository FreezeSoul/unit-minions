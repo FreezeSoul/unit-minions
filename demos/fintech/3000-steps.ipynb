{
 "cells": [
  {
   "cell_type": "code",
   "execution_count": 6,
   "outputs": [
    {
     "name": "stdout",
     "output_type": "stream",
     "text": [
      "Instruction: 招赢通平台是什么？ \n",
      "Input: \n",
      "Answer:\n",
      "招赢通平台是招商银行推出的资金交易领域的线上化平台,旨在实现招商银行同业资金的电子化、线上化交易,为投资者提供高效、安全、便捷的同业资金交易服务。\n"
     ]
    }
   ],
   "source": [
    "evaluate(\"Instruction: 招赢通平台是什么？ \\nInput: \\nAnswer:\")"
   ],
   "metadata": {
    "collapsed": false
   }
  },
  {
   "cell_type": "code",
   "execution_count": 8,
   "outputs": [
    {
     "name": "stdout",
     "output_type": "stream",
     "text": [
      "Instruction: 创建敏捷用户故事 \n",
      "Input: 招赢通:购买债券 \n",
      "Answer:\n",
      "\n",
      "用户故事:可以购买债券\n",
      "作为一个债券爱好者\n",
      "我想在招赢通上购买债券\n",
      "以便于我能够更方便地购买债券\n",
      "\n",
      "AC: \n",
      "1. 用户可以在招赢通上注册一个账号\n",
      "2. 用户可以上传债券需求,包括债券类型、利率、期限等\n",
      "3. 用户可以查看招赢通上债券的详细信息,包括本金、利息、到期日等\n",
      "4. 用户可以查看招赢通上债券的交易情况,包括买入、卖出、转让等\n",
      "5. 用户可以查看招赢通上债券的风险收益分析,包括信用风险、市场风险等\n"
     ]
    }
   ],
   "source": [
    "evaluate(\"Instruction: 创建敏捷用户故事 \\nInput: 招赢通:购买债券 \\nAnswer:\")"
   ],
   "metadata": {
    "collapsed": false
   }
  },
  {
   "cell_type": "code",
   "execution_count": 12,
   "id": "fa8607aa-158f-4daa-8ba5-ec4ffa28a58f",
   "metadata": {
    "execution": {
     "iopub.execute_input": "2023-04-12T04:24:48.941627Z",
     "iopub.status.busy": "2023-04-12T04:24:48.941282Z",
     "iopub.status.idle": "2023-04-12T04:24:54.099425Z",
     "shell.execute_reply": "2023-04-12T04:24:54.098890Z",
     "shell.execute_reply.started": "2023-04-12T04:24:48.941611Z"
    },
    "tags": []
   },
   "outputs": [
    {
     "name": "stdout",
     "output_type": "stream",
     "text": [
      "Instruction: create Agile user story for following topic \n",
      "Input: 赎回鼎鼎成金 \n",
      "Answer:\n",
      "\n",
      "用户故事:可以赎回鼎鼎成金 \n",
      "作为一个银行用户 \n",
      "我想赎回我的鼎鼎成金账户 \n",
      "\n",
      "AC 1: 可以赎回鼎鼎成金 \n",
      "当用户拿着银行发送的赎回申请文件到银行客服网站 \n",
      "于是用户就可以赎回他们的鼎鼎成金账户 \n",
      "\n",
      "AC 2: 可以赎回鼎鼎成金账户的余额 \n",
      "当用户拿着银行发送的赎回申请文件到银行客服网站 \n",
      "于是用户就可以赎回他们鼎鼎成金账户的余额\n"
     ]
    }
   ],
   "source": [
    "evaluate(\"Instruction: create Agile user story for following topic \\nInput: 赎回鼎鼎成金 \\nAnswer:\")"
   ]
  },
  {
   "cell_type": "code",
   "execution_count": 16,
   "id": "84604372-2ed9-4892-b12e-a57d59e15ecf",
   "metadata": {
    "execution": {
     "iopub.execute_input": "2023-04-12T04:26:46.288345Z",
     "iopub.status.busy": "2023-04-12T04:26:46.288105Z",
     "iopub.status.idle": "2023-04-12T04:26:52.732520Z",
     "shell.execute_reply": "2023-04-12T04:26:52.731989Z",
     "shell.execute_reply.started": "2023-04-12T04:26:46.288324Z"
    },
    "tags": []
   },
   "outputs": [
    {
     "name": "stdout",
     "output_type": "stream",
     "text": [
      "Instruction: create Agile user story for following topic \n",
      "Input: 计算招赢通约期存款 \n",
      "Answer:\n",
      "\n",
      "用户故事:计算招赢通约期存款\n",
      "作为一个理财用户\n",
      "我想在招赢通上计算招赢通约期存款\n",
      "以便于我能够了解招赢通约期存款的价格、期限和收益\n",
      "\n",
      "技术实现:\n",
      "作为一个理财用户\n",
      "我想在招赢通上计算招赢通约期存款的价格、期限和收益\n",
      "以便于我能够了解招赢通约期存款的价格、期限和收益\n",
      "\n",
      "技术需求:\n",
      "1. 理财用户可以在招赢通上计算招赢通约期存款的价格、期限和收益\n",
      "2. 理财用户可以在招赢通上查看招赢通约期存款的价格、期限和收益\n"
     ]
    }
   ],
   "source": [
    "evaluate(\"Instruction: create Agile user story for following topic \\nInput: 约期存款计算 \\nAnswer:\")"
   ]
  },
  {
   "cell_type": "code",
   "execution_count": null,
   "id": "dc3103ae-33d1-42ed-b19a-fd9502c463f0",
   "metadata": {},
   "outputs": [],
   "source": []
  }
 ],
 "metadata": {
  "kernelspec": {
   "display_name": "Python 3 (ipykernel)",
   "language": "python",
   "name": "python3"
  },
  "language_info": {
   "codemirror_mode": {
    "name": "ipython",
    "version": 3
   },
   "file_extension": ".py",
   "mimetype": "text/x-python",
   "name": "python",
   "nbconvert_exporter": "python",
   "pygments_lexer": "ipython3",
   "version": "3.8.15"
  }
 },
 "nbformat": 4,
 "nbformat_minor": 5
}
