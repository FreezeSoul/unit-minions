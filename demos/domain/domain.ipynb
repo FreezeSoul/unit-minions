{
 "cells": [
  {
   "cell_type": "code",
   "execution_count": 8,
   "id": "dc3103ae-33d1-42ed-b19a-fd9502c463f0",
   "metadata": {
    "execution": {
     "iopub.execute_input": "2023-04-13T03:37:33.336270Z",
     "iopub.status.busy": "2023-04-13T03:37:33.336092Z",
     "iopub.status.idle": "2023-04-13T03:37:43.757519Z",
     "shell.execute_reply": "2023-04-13T03:37:43.756838Z",
     "shell.execute_reply.started": "2023-04-13T03:37:33.336257Z"
    },
    "tags": []
   },
   "outputs": [
    {
     "name": "stdout",
     "output_type": "stream",
     "text": [
      "Instruction: 基金收益分配方案的确定与公告 \n",
      "Input: \n",
      "Answer:\n",
      "\n",
      "当基金的收益分配方案确定后,基金管理人需编制收益分配公告,并依法向中国证监会和基金托管人备案。 \n",
      "\n",
      "例如:\n",
      "\n",
      "假设基金A约定于每年 1月1日计算基金A的年度收益,基金A的年度收益分配日为每年 6月15日。\n",
      "\n",
      "因此,基金A的年度收益分配方案为:将基金A的年度收益于每年 6月15日计算,将基金A的年度收益分配至每年 1月1日计算。\n",
      "\n",
      "财通财通宝货币市场基金                                                招募说明书   50 基金管理人在计算基金A的年度收益时,应使用截至当年 6月15日的数据计算,并编制收益公告,同时向中国证监会和基金托管人备案。 \n"
     ]
    }
   ],
   "source": [
    "evaluate(\"Instruction: 基金收益分配方案的确定与公告 \\nInput: \\nAnswer:\")"
   ]
  },
  {
   "cell_type": "code",
   "execution_count": 15,
   "id": "86bdaa23-a60a-435c-b9fc-a39e43706f20",
   "metadata": {
    "execution": {
     "iopub.execute_input": "2023-04-13T03:40:26.571151Z",
     "iopub.status.busy": "2023-04-13T03:40:26.570894Z",
     "iopub.status.idle": "2023-04-13T03:40:38.856873Z",
     "shell.execute_reply": "2023-04-13T03:40:38.856213Z",
     "shell.execute_reply.started": "2023-04-13T03:40:26.571134Z"
    },
    "tags": []
   },
   "outputs": [
    {
     "name": "stdout",
     "output_type": "stream",
     "text": [
      "Instruction: 什么是基金费用的费率、计提方法、计提标准和支付方式 \n",
      "Input: \n",
      "Answer:\n",
      "\n",
      "\n",
      "基金费用包括:管理费、托管费、销售服务费、交易费等。\n",
      "\n",
      "管理费是基金管理公司为管理同一基金财产而收取的费用。 \n",
      "\n",
      "托管费是基金公司为保管基金财产而收取的费用。 \n",
      "\n",
      "销售服务费是基金公司为销售本基金而收取的费用。 \n",
      "\n",
      "交易费是基金在买卖基金时收取的费用。 \n",
      "\n",
      "基金费用的计提方法包括按日计提和按季计提。 \n",
      "\n",
      "基金费用的计提标准和支付方式见下表:\n",
      "\n",
      "| 费用名称     | 计提方法     | 计提标准     | 支付方式     |\n",
      "| ---------     | --------- | --------- | --------- |\n",
      "| 管理费       | 按日计提     | 基金资产净值的0.25%     | 按余额每日计提     |\n",
      "| 托管费       | 按月计提     | 0.1%       | 按月支付         |\n",
      "| 销售服务费     | 按季计提     | 0.25%       | 按季支付         |\n",
      "| 交易费       | 按交易日计提     | 0.01%       | 按交易日计提     |\n",
      "\n",
      "在基金资产净值中相应扣除。\n"
     ]
    }
   ],
   "source": [
    "evaluate(\"Instruction: 基金费用的费率、计提方法、计提标准和支付方式 \\nInput: \\nAnswer:\")"
   ]
  },
  {
   "cell_type": "code",
   "execution_count": 16,
   "id": "fa8607aa-158f-4daa-8ba5-ec4ffa28a58f",
   "metadata": {
    "execution": {
     "iopub.execute_input": "2023-04-13T03:40:57.208593Z",
     "iopub.status.busy": "2023-04-13T03:40:57.208356Z",
     "iopub.status.idle": "2023-04-13T03:41:02.343362Z",
     "shell.execute_reply": "2023-04-13T03:41:02.342600Z",
     "shell.execute_reply.started": "2023-04-13T03:40:57.208576Z"
    },
    "tags": []
   },
   "outputs": [
    {
     "name": "stdout",
     "output_type": "stream",
     "text": [
      "Instruction: create Agile user story for following topic \n",
      "Input:  招赢通:基金费用计提和支付 \n",
      "Answer:\n",
      "\n",
      "故事:招赢通基金费用计提和支付\n",
      "作为 招赢通基金服务\n",
      "我想 提供基金费用计提和支付的服务\n",
      "以便于 招赢通基金服务能够更好地管理基金\n",
      "\n",
      "AC 1: 招赢通基金服务提供基金费用计提和支付的服务\n",
      "假设 招赢通基金服务已经准备好基金费用计提和支付的系统\n",
      "当 招赢通基金服务的用户需要基金费用计提和支付时\n",
      "于是 招赢通基金服务的用户可以使用系统进行基金费用计提和支付\n"
     ]
    }
   ],
   "source": [
    "evaluate(\"Instruction: create Agile user story for following topic \\nInput:  招赢通:基金费用计提和支付 \\nAnswer:\")"
   ]
  },
  {
   "cell_type": "code",
   "execution_count": 11,
   "id": "554b18da-0b1a-4ea1-b4c0-f5a7e0802f5c",
   "metadata": {
    "execution": {
     "iopub.execute_input": "2023-04-13T03:38:34.293661Z",
     "iopub.status.busy": "2023-04-13T03:38:34.293499Z",
     "iopub.status.idle": "2023-04-13T03:38:40.887852Z",
     "shell.execute_reply": "2023-04-13T03:38:40.887242Z",
     "shell.execute_reply.started": "2023-04-13T03:38:34.293646Z"
    },
    "tags": []
   },
   "outputs": [
    {
     "name": "stdout",
     "output_type": "stream",
     "text": [
      "create Agile user story for following topic \n",
      "Input: 招赢通:基金估值 \n",
      "Answer:\n",
      "\n",
      "用户故事:可以使用招赢通进行基金估值\n",
      "作为一个投资者\n",
      "我想使用招赢通进行基金估值\n",
      "以便于我能够更好地了解基金的财务状况\n",
      "\n",
      "\n",
      "AC 1: 投资者可以使用招赢通进行基金估值\n",
      "假设投资者已经登录招赢通\n",
      "当投资者点击基金估值按钮\n",
      "于是招赢通会显示基金的财务状况,包括基金资产净值、基金总份额、基金资产总值等\n",
      "\n",
      "\n",
      "AC 2: 投资者可以查看基金估值的历史数据\n",
      "假设投资者已经登录招赢通\n",
      "当投资者点击基金估值的历史数据按钮\n",
      "于是招赢通会显示基金估值的历史数据,包括基金资产净值、基金总份额、基金资产总值等\n"
     ]
    }
   ],
   "source": [
    "evaluate(\"create Agile user story for following topic \\nInput: 招赢通:基金估值 \\nAnswer:\")"
   ]
  },
  {
   "cell_type": "code",
   "execution_count": null,
   "id": "45ea5dd1-79a2-4d62-a994-90325970dc81",
   "metadata": {},
   "outputs": [],
   "source": []
  }
 ],
 "metadata": {
  "kernelspec": {
   "display_name": "Python 3 (ipykernel)",
   "language": "python",
   "name": "python3"
  },
  "language_info": {
   "codemirror_mode": {
    "name": "ipython",
    "version": 3
   },
   "file_extension": ".py",
   "mimetype": "text/x-python",
   "name": "python",
   "nbconvert_exporter": "python",
   "pygments_lexer": "ipython3",
   "version": "3.8.15"
  }
 },
 "nbformat": 4,
 "nbformat_minor": 5
}
