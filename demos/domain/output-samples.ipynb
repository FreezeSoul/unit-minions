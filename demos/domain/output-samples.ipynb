{
 "cells": [
  {
   "cell_type": "code",
   "execution_count": 16,
   "id": "dc3103ae-33d1-42ed-b19a-fd9502c463f0",
   "metadata": {
    "execution": {
     "iopub.execute_input": "2023-04-12T08:43:29.455441Z",
     "iopub.status.busy": "2023-04-12T08:43:29.454998Z",
     "iopub.status.idle": "2023-04-12T08:43:38.614236Z",
     "shell.execute_reply": "2023-04-12T08:43:38.613688Z",
     "shell.execute_reply.started": "2023-04-12T08:43:29.455407Z"
    }
   },
   "outputs": [
    {
     "name": "stdout",
     "output_type": "stream",
     "text": [
      "Instruction: 基金收益分配方案的确定与公告 \n",
      "Input: \n",
      "Answer:\n",
      "\n",
      "为了公平合理地分配基金的收益,基金管理人可以根据基金合同和本基金的具体情况,制定收益分配方案并通知基金托管人。 基金托管人根据基金管理人的通知,对收益分配方案进行审核并公告。 \n",
      "如果基金管理人和基金托管人对收益分配方案的确定和公告存在分歧, 应首先以基金托管人的意见为准。 \n",
      "如果基金管理人未能按照收益分配方案进行收益分配,基金托管人应及时报告中国证监会,基金管理人应负责及时纠正。 \n",
      "基金托管人根据基金管理人的通知,对基金收益分配进行复核,并通知基金管理人。 \n",
      "如果基金管理人和基金托管人对复核结果存在分歧, 应首先以基金托管人的意见为准。 \n",
      "如果基金管理人和基金托管人认为基金管理人未能按照收益分配方案进行收益分配导致基金收益减少, 应及时报告中国证监会。 基金管理人和基金托管人应及时就基金收益分配的相关事宜进行沟通和协调,确保基金收益分配的公平合理。\n"
     ]
    }
   ],
   "source": [
    "evaluate(\"Instruction: 基金收益分配方案的确定与公告 \\nInput: \\nAnswer:\")"
   ]
  },
  {
   "cell_type": "code",
   "execution_count": 22,
   "id": "86bdaa23-a60a-435c-b9fc-a39e43706f20",
   "metadata": {
    "execution": {
     "iopub.execute_input": "2023-04-12T08:48:07.649473Z",
     "iopub.status.busy": "2023-04-12T08:48:07.649143Z",
     "iopub.status.idle": "2023-04-12T08:48:29.351527Z",
     "shell.execute_reply": "2023-04-12T08:48:29.350893Z",
     "shell.execute_reply.started": "2023-04-12T08:48:07.649452Z"
    },
    "tags": []
   },
   "outputs": [
    {
     "name": "stdout",
     "output_type": "stream",
     "text": [
      "Instruction: 长盛货币的基金费用的费率、计提方法、计提标准和支付方式 \n",
      "Input: \n",
      "Answer:\n",
      "\n",
      "长盛货币市场基金  1. 费率  本基金采用费率结构,费率如下:  (1)交易费率  交易费率=交易金额×0.025% 交易金额是指基金资产净值。 交易金额不足1元按1元计算。  (2)申购费  申购费=申购金额×0.15% 申购金额是指基金资产净值。 申购金额不足1元按1元计算。  (3)赎回费  赎回费=赎回金额×0.15% 赎回金额是指基金资产净值。 赎回金额不足1元按1元计算。  (4)交易摩擦费用  交易摩擦费用=交易金额×0.002% 交易金额是指基金资产净值。 交易金额不足1元按1元计算。  (5)申购赎回摩擦费用  申购赎回摩擦费用=申购金额×0.001% 申购金额是指基金资产净值。 申购金额不足1元按1元计算。  (6)申购赎回摩擦摩擦费用  申购赎回摩擦摩擦费用=申购金额×0.0001% 申购金额是指基金资产净值。 申购金额不足1元按1元计算。  (7)交易摩擦摩擦费用  交易摩擦摩擦费用=交易金额×0.001% 交易金额是指基金资产净值。 交易金额不足1元按1元计算。  (8)交易摩擦摩擦摩擦费用  交易摩擦摩擦摩擦摩擦费用=交易金额×0.0001% 交易金额是指基金资产净值。 交易金额不足1元按1元计算。  (9)交易摩擦摩擦摩擦摩擦费用  交易摩擦摩擦摩擦摩擦摩擦费用=交易金额×0.0001% 交易金额是指基金资产净值。 交易金额不足1元按1元计算。  (10)交易摩擦摩擦摩擦摩擦摩擦费用  交易摩擦摩擦摩擦摩擦摩擦摩擦费用=交易金额×0.0001% 交易金额是指基金资产净值。 交易金额不足1元按1元计算。  (11)交易摩擦摩擦摩擦摩擦摩擦摩擦费用  交易摩擦摩擦摩擦摩擦摩擦摩擦摩擦费用=交易金额×0.0001% 交易\n"
     ]
    }
   ],
   "source": [
    "evaluate(\"Instruction: 长盛货币的基金费用的费率、计提方法、计提标准和支付方式 \\nInput: \\nAnswer:\")"
   ]
  },
  {
   "cell_type": "code",
   "execution_count": 30,
   "id": "fa8607aa-158f-4daa-8ba5-ec4ffa28a58f",
   "metadata": {
    "execution": {
     "iopub.execute_input": "2023-04-12T08:52:21.798587Z",
     "iopub.status.busy": "2023-04-12T08:52:21.798234Z",
     "iopub.status.idle": "2023-04-12T08:52:24.785408Z",
     "shell.execute_reply": "2023-04-12T08:52:24.784928Z",
     "shell.execute_reply.started": "2023-04-12T08:52:21.798570Z"
    },
    "tags": []
   },
   "outputs": [
    {
     "name": "stdout",
     "output_type": "stream",
     "text": [
      "Instruction: create Agile user story for following topic \n",
      "Input: 基金收益计算 \n",
      "Answer:\n",
      "\n",
      "用户故事:可以计算基金收益\n",
      "作为 一个投资者\n",
      "我想 能够计算我的基金的收益\n",
      "以便于 我能够更好地管理我的投资组合\n",
      "\n",
      "AC 1: 投资者可以计算基金收益\n",
      "假设 投资者已经选择了一支基金\n",
      "当 投资者点击计算收益按钮\n",
      "于是 投资者可以查看基金的收益\n"
     ]
    }
   ],
   "source": [
    "evaluate(\"Instruction: create Agile user story for following topic \\nInput: 基金收益计算 \\nAnswer:\")"
   ]
  },
  {
   "cell_type": "code",
   "execution_count": 33,
   "id": "554b18da-0b1a-4ea1-b4c0-f5a7e0802f5c",
   "metadata": {
    "execution": {
     "iopub.execute_input": "2023-04-12T08:53:22.227000Z",
     "iopub.status.busy": "2023-04-12T08:53:22.226732Z",
     "iopub.status.idle": "2023-04-12T08:53:28.094907Z",
     "shell.execute_reply": "2023-04-12T08:53:28.094417Z",
     "shell.execute_reply.started": "2023-04-12T08:53:22.226980Z"
    },
    "tags": []
   },
   "outputs": [
    {
     "name": "stdout",
     "output_type": "stream",
     "text": [
      "create Agile user story for following topic \n",
      "Input: 招赢通:基金估值 \n",
      "Answer:\n",
      "\n",
      "用户故事:可以计算基金估值 \n",
      "作为 招赢通用户 \n",
      "我想 在招赢通应用中计算基金估值 \n",
      "以便于 我能够更好地管理我的投资组合 \n",
      "\n",
      "AC 1: 招赢通用户可以在应用中计算基金估值 \n",
      "假设 用户已经登录到招赢通应用 \n",
      "当 用户点击基金估值按钮 \n",
      "于是 用户可以在应用中计算基金估值 \n",
      "\n",
      "AC 2: 用户可以查看基金估值结果 \n",
      "假设 用户已经登录到招赢通应用 \n",
      "当 用户点击基金估值按钮 \n",
      "于是 用户可以查看基金估值结果\n"
     ]
    }
   ],
   "source": [
    "evaluate(\"create Agile user story for following topic \\nInput: 招赢通:基金估值 \\nAnswer:\")"
   ]
  },
  {
   "cell_type": "code",
   "execution_count": null,
   "id": "45ea5dd1-79a2-4d62-a994-90325970dc81",
   "metadata": {},
   "outputs": [],
   "source": []
  }
 ],
 "metadata": {
  "kernelspec": {
   "display_name": "Python 3 (ipykernel)",
   "language": "python",
   "name": "python3"
  },
  "language_info": {
   "codemirror_mode": {
    "name": "ipython",
    "version": 3
   },
   "file_extension": ".py",
   "mimetype": "text/x-python",
   "name": "python",
   "nbconvert_exporter": "python",
   "pygments_lexer": "ipython3",
   "version": "3.8.15"
  }
 },
 "nbformat": 4,
 "nbformat_minor": 5
}
