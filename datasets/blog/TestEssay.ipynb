{
 "cells": [
  {
   "cell_type": "code",
   "execution_count": 1,
   "outputs": [],
   "source": [
    "# My OpenAI Key\n",
    "import os\n",
    "os.environ['OPENAI_API_KEY'] = \"\""
   ],
   "metadata": {
    "collapsed": false
   }
  },
  {
   "cell_type": "code",
   "execution_count": 2,
   "id": "6a712b56",
   "metadata": {
    "ExecuteTime": {
     "start_time": "2023-04-12T09:36:47.711130Z",
     "end_time": "2023-04-12T09:36:47.715178Z"
    }
   },
   "outputs": [],
   "source": [
    "import logging\n",
    "import sys\n",
    "\n",
    "logging.basicConfig(stream=sys.stdout, level=logging.INFO)\n",
    "logging.getLogger().addHandler(logging.StreamHandler(stream=sys.stdout))"
   ]
  },
  {
   "cell_type": "markdown",
   "id": "be3f7baa-1c0a-430b-981b-83ddca9e71f2",
   "metadata": {
    "tags": []
   },
   "source": [
    "## Using GPT Tree Index"
   ]
  },
  {
   "cell_type": "code",
   "execution_count": 4,
   "outputs": [
    {
     "name": "stdout",
     "output_type": "stream",
     "text": [
      "\u001B[33mDEPRECATION: Configuring installation scheme with distutils config files is deprecated and will no longer work in the near future. If you are using a Homebrew or Linuxbrew Python, please see discussion at https://github.com/Homebrew/homebrew-core/issues/76621\u001B[0m\u001B[33m\r\n",
      "\u001B[0mCollecting openai\r\n",
      "  Using cached openai-0.27.4-py3-none-any.whl (70 kB)\r\n",
      "Collecting llama-index\r\n",
      "  Downloading llama_index-0.5.12.tar.gz (174 kB)\r\n",
      "\u001B[2K     \u001B[90m━━━━━━━━━━━━━━━━━━━━━━━━━━━━━━━━━━━━━\u001B[0m \u001B[32m174.8/174.8 kB\u001B[0m \u001B[31m519.2 kB/s\u001B[0m eta \u001B[36m0:00:00\u001B[0m00:01\u001B[0m00:01\u001B[0m\r\n",
      "\u001B[?25h  Preparing metadata (setup.py) ... \u001B[?25ldone\r\n",
      "\u001B[?25hRequirement already satisfied: aiohttp in /usr/local/lib/python3.9/site-packages (from openai) (3.8.4)\r\n",
      "Requirement already satisfied: requests>=2.20 in /usr/local/lib/python3.9/site-packages (from openai) (2.27.1)\r\n",
      "Requirement already satisfied: tqdm in /usr/local/lib/python3.9/site-packages (from openai) (4.62.3)\r\n",
      "Collecting dataclasses_json\r\n",
      "  Using cached dataclasses_json-0.5.7-py3-none-any.whl (25 kB)\r\n",
      "Collecting langchain>=0.0.123\r\n",
      "  Using cached langchain-0.0.137-py3-none-any.whl (518 kB)\r\n",
      "Requirement already satisfied: numpy in /usr/local/lib/python3.9/site-packages (from llama-index) (1.23.4)\r\n",
      "Collecting tenacity<9.0.0,>=8.2.0\r\n",
      "  Using cached tenacity-8.2.2-py3-none-any.whl (24 kB)\r\n",
      "Requirement already satisfied: pandas in /usr/local/lib/python3.9/site-packages (from llama-index) (1.5.3)\r\n",
      "Collecting tiktoken\r\n",
      "  Using cached tiktoken-0.3.3-cp39-cp39-macosx_10_9_x86_64.whl (736 kB)\r\n",
      "Collecting openapi-schema-pydantic<2.0,>=1.2\r\n",
      "  Using cached openapi_schema_pydantic-1.2.4-py3-none-any.whl (90 kB)\r\n",
      "Collecting SQLAlchemy<2,>=1\r\n",
      "  Using cached SQLAlchemy-1.4.47-cp39-cp39-macosx_11_0_x86_64.whl (1.6 MB)\r\n",
      "Requirement already satisfied: async-timeout<5.0.0,>=4.0.0 in /usr/local/lib/python3.9/site-packages (from langchain>=0.0.123->llama-index) (4.0.2)\r\n",
      "Requirement already satisfied: pydantic<2,>=1 in /usr/local/lib/python3.9/site-packages (from langchain>=0.0.123->llama-index) (1.10.7)\r\n",
      "Requirement already satisfied: PyYAML>=5.4.1 in /usr/local/lib/python3.9/site-packages (from langchain>=0.0.123->llama-index) (6.0)\r\n",
      "Requirement already satisfied: aiosignal>=1.1.2 in /usr/local/lib/python3.9/site-packages (from aiohttp->openai) (1.3.1)\r\n",
      "Requirement already satisfied: yarl<2.0,>=1.0 in /usr/local/lib/python3.9/site-packages (from aiohttp->openai) (1.8.2)\r\n",
      "Requirement already satisfied: multidict<7.0,>=4.5 in /usr/local/lib/python3.9/site-packages (from aiohttp->openai) (6.0.4)\r\n",
      "Requirement already satisfied: charset-normalizer<4.0,>=2.0 in /usr/local/lib/python3.9/site-packages (from aiohttp->openai) (2.0.4)\r\n",
      "Requirement already satisfied: attrs>=17.3.0 in /usr/local/lib/python3.9/site-packages (from aiohttp->openai) (21.4.0)\r\n",
      "Requirement already satisfied: frozenlist>=1.1.1 in /usr/local/lib/python3.9/site-packages (from aiohttp->openai) (1.3.3)\r\n",
      "Collecting marshmallow-enum<2.0.0,>=1.5.1\r\n",
      "  Using cached marshmallow_enum-1.5.1-py2.py3-none-any.whl (4.2 kB)\r\n",
      "Collecting marshmallow<4.0.0,>=3.3.0\r\n",
      "  Using cached marshmallow-3.19.0-py3-none-any.whl (49 kB)\r\n",
      "Collecting typing-inspect>=0.4.0\r\n",
      "  Using cached typing_inspect-0.8.0-py3-none-any.whl (8.7 kB)\r\n",
      "Requirement already satisfied: urllib3<1.27,>=1.21.1 in /usr/local/lib/python3.9/site-packages (from requests>=2.20->openai) (1.25.11)\r\n",
      "Requirement already satisfied: idna<4,>=2.5 in /usr/local/lib/python3.9/site-packages (from requests>=2.20->openai) (2.10)\r\n",
      "Requirement already satisfied: certifi>=2017.4.17 in /usr/local/lib/python3.9/site-packages (from requests>=2.20->openai) (2021.5.30)\r\n",
      "Requirement already satisfied: python-dateutil>=2.8.1 in /usr/local/lib/python3.9/site-packages (from pandas->llama-index) (2.8.2)\r\n",
      "Requirement already satisfied: pytz>=2020.1 in /usr/local/lib/python3.9/site-packages (from pandas->llama-index) (2021.1)\r\n",
      "Collecting regex>=2022.1.18\r\n",
      "  Using cached regex-2023.3.23-cp39-cp39-macosx_10_9_x86_64.whl (294 kB)\r\n",
      "Requirement already satisfied: packaging>=17.0 in /Users/phodal/Library/Python/3.9/lib/python/site-packages (from marshmallow<4.0.0,>=3.3.0->dataclasses_json->llama-index) (21.0)\r\n",
      "Requirement already satisfied: typing-extensions>=4.2.0 in /usr/local/lib/python3.9/site-packages (from pydantic<2,>=1->langchain>=0.0.123->llama-index) (4.5.0)\r\n",
      "Requirement already satisfied: six>=1.5 in /usr/local/lib/python3.9/site-packages (from python-dateutil>=2.8.1->pandas->llama-index) (1.16.0)\r\n",
      "Collecting greenlet!=0.4.17\r\n",
      "  Using cached greenlet-2.0.2-cp39-cp39-macosx_11_0_x86_64.whl (241 kB)\r\n",
      "Collecting mypy-extensions>=0.3.0\r\n",
      "  Using cached mypy_extensions-1.0.0-py3-none-any.whl (4.7 kB)\r\n",
      "Requirement already satisfied: pyparsing>=2.0.2 in /Users/phodal/Library/Python/3.9/lib/python/site-packages (from packaging>=17.0->marshmallow<4.0.0,>=3.3.0->dataclasses_json->llama-index) (2.4.7)\r\n",
      "Building wheels for collected packages: llama-index\r\n",
      "  Building wheel for llama-index (setup.py) ... \u001B[?25ldone\r\n",
      "\u001B[?25h  Created wheel for llama-index: filename=llama_index-0.5.12-py3-none-any.whl size=259528 sha256=43f1016fbe2c8919cfcabad411f09a59e893d13312c23c3f568d105d327e7222\r\n",
      "  Stored in directory: /Users/phodal/Library/Caches/pip/wheels/74/2c/06/8aaea26afe9b275c80947a7c01151bac11821a6fcc4f99acfe\r\n",
      "Successfully built llama-index\r\n",
      "Installing collected packages: tenacity, regex, mypy-extensions, greenlet, typing-inspect, tiktoken, SQLAlchemy, openapi-schema-pydantic, marshmallow, openai, marshmallow-enum, dataclasses_json, langchain, llama-index\r\n",
      "\u001B[33m  DEPRECATION: Configuring installation scheme with distutils config files is deprecated and will no longer work in the near future. If you are using a Homebrew or Linuxbrew Python, please see discussion at https://github.com/Homebrew/homebrew-core/issues/76621\u001B[0m\u001B[33m\r\n",
      "\u001B[0m  Attempting uninstall: regex\r\n",
      "    Found existing installation: regex 2020.4.4\r\n",
      "    Uninstalling regex-2020.4.4:\r\n",
      "      Successfully uninstalled regex-2020.4.4\r\n",
      "\u001B[33m  DEPRECATION: Configuring installation scheme with distutils config files is deprecated and will no longer work in the near future. If you are using a Homebrew or Linuxbrew Python, please see discussion at https://github.com/Homebrew/homebrew-core/issues/76621\u001B[0m\u001B[33m\r\n",
      "\u001B[0m\u001B[33m  DEPRECATION: Configuring installation scheme with distutils config files is deprecated and will no longer work in the near future. If you are using a Homebrew or Linuxbrew Python, please see discussion at https://github.com/Homebrew/homebrew-core/issues/76621\u001B[0m\u001B[33m\r\n",
      "\u001B[0m\u001B[33m  DEPRECATION: Configuring installation scheme with distutils config files is deprecated and will no longer work in the near future. If you are using a Homebrew or Linuxbrew Python, please see discussion at https://github.com/Homebrew/homebrew-core/issues/76621\u001B[0m\u001B[33m\r\n",
      "\u001B[0m\u001B[33m  DEPRECATION: Configuring installation scheme with distutils config files is deprecated and will no longer work in the near future. If you are using a Homebrew or Linuxbrew Python, please see discussion at https://github.com/Homebrew/homebrew-core/issues/76621\u001B[0m\u001B[33m\r\n",
      "\u001B[0m\u001B[33m  DEPRECATION: Configuring installation scheme with distutils config files is deprecated and will no longer work in the near future. If you are using a Homebrew or Linuxbrew Python, please see discussion at https://github.com/Homebrew/homebrew-core/issues/76621\u001B[0m\u001B[33m\r\n",
      "\u001B[0m\u001B[33m  DEPRECATION: Configuring installation scheme with distutils config files is deprecated and will no longer work in the near future. If you are using a Homebrew or Linuxbrew Python, please see discussion at https://github.com/Homebrew/homebrew-core/issues/76621\u001B[0m\u001B[33m\r\n",
      "\u001B[0m\u001B[33m  DEPRECATION: Configuring installation scheme with distutils config files is deprecated and will no longer work in the near future. If you are using a Homebrew or Linuxbrew Python, please see discussion at https://github.com/Homebrew/homebrew-core/issues/76621\u001B[0m\u001B[33m\r\n",
      "\u001B[0m\u001B[33m  DEPRECATION: Configuring installation scheme with distutils config files is deprecated and will no longer work in the near future. If you are using a Homebrew or Linuxbrew Python, please see discussion at https://github.com/Homebrew/homebrew-core/issues/76621\u001B[0m\u001B[33m\r\n",
      "\u001B[0m\u001B[33m  DEPRECATION: Configuring installation scheme with distutils config files is deprecated and will no longer work in the near future. If you are using a Homebrew or Linuxbrew Python, please see discussion at https://github.com/Homebrew/homebrew-core/issues/76621\u001B[0m\u001B[33m\r\n",
      "\u001B[0m\u001B[33m  WARNING: The script openai is installed in '/usr/local/bin' which is not on PATH.\r\n",
      "  Consider adding this directory to PATH or, if you prefer to suppress this warning, use --no-warn-script-location.\r\n",
      "  NOTE: The current PATH contains path(s) starting with `~`, which may not be expanded by all applications.\u001B[0m\u001B[33m\r\n",
      "\u001B[0m\u001B[33m  DEPRECATION: Configuring installation scheme with distutils config files is deprecated and will no longer work in the near future. If you are using a Homebrew or Linuxbrew Python, please see discussion at https://github.com/Homebrew/homebrew-core/issues/76621\u001B[0m\u001B[33m\r\n",
      "\u001B[0m\u001B[33m  DEPRECATION: Configuring installation scheme with distutils config files is deprecated and will no longer work in the near future. If you are using a Homebrew or Linuxbrew Python, please see discussion at https://github.com/Homebrew/homebrew-core/issues/76621\u001B[0m\u001B[33m\r\n",
      "\u001B[0m\u001B[33m  DEPRECATION: Configuring installation scheme with distutils config files is deprecated and will no longer work in the near future. If you are using a Homebrew or Linuxbrew Python, please see discussion at https://github.com/Homebrew/homebrew-core/issues/76621\u001B[0m\u001B[33m\r\n",
      "\u001B[0m\u001B[33m  WARNING: The script langchain-server is installed in '/usr/local/bin' which is not on PATH.\r\n",
      "  Consider adding this directory to PATH or, if you prefer to suppress this warning, use --no-warn-script-location.\r\n",
      "  NOTE: The current PATH contains path(s) starting with `~`, which may not be expanded by all applications.\u001B[0m\u001B[33m\r\n",
      "\u001B[0m\u001B[33m  DEPRECATION: Configuring installation scheme with distutils config files is deprecated and will no longer work in the near future. If you are using a Homebrew or Linuxbrew Python, please see discussion at https://github.com/Homebrew/homebrew-core/issues/76621\u001B[0m\u001B[33m\r\n",
      "\u001B[0m\u001B[33mDEPRECATION: Configuring installation scheme with distutils config files is deprecated and will no longer work in the near future. If you are using a Homebrew or Linuxbrew Python, please see discussion at https://github.com/Homebrew/homebrew-core/issues/76621\u001B[0m\u001B[33m\r\n",
      "\u001B[0mSuccessfully installed SQLAlchemy-1.4.47 dataclasses_json-0.5.7 greenlet-2.0.2 langchain-0.0.137 llama-index-0.5.12 marshmallow-3.19.0 marshmallow-enum-1.5.1 mypy-extensions-1.0.0 openai-0.27.4 openapi-schema-pydantic-1.2.4 regex-2023.3.23 tenacity-8.2.2 tiktoken-0.3.3 typing-inspect-0.8.0\r\n",
      "\r\n",
      "\u001B[1m[\u001B[0m\u001B[34;49mnotice\u001B[0m\u001B[1;39;49m]\u001B[0m\u001B[39;49m A new release of pip available: \u001B[0m\u001B[31;49m22.3.1\u001B[0m\u001B[39;49m -> \u001B[0m\u001B[32;49m23.0.1\u001B[0m\r\n",
      "\u001B[1m[\u001B[0m\u001B[34;49mnotice\u001B[0m\u001B[1;39;49m]\u001B[0m\u001B[39;49m To update, run: \u001B[0m\u001B[32;49mpython3.9 -m pip install --upgrade pip\u001B[0m\r\n"
     ]
    }
   ],
   "source": [
    "!pip install openai llama-index"
   ],
   "metadata": {
    "collapsed": false,
    "ExecuteTime": {
     "start_time": "2023-04-12T09:37:10.027682Z",
     "end_time": "2023-04-12T09:37:26.585106Z"
    }
   }
  },
  {
   "cell_type": "markdown",
   "id": "0881f151-279e-4910-95c7-f49d3d6a4c69",
   "metadata": {},
   "source": [
    "#### [Demo] Default leaf traversal"
   ]
  },
  {
   "cell_type": "code",
   "execution_count": 5,
   "id": "1c297fd3-3424-41d8-9d0d-25fe6310ab62",
   "metadata": {
    "tags": [],
    "ExecuteTime": {
     "start_time": "2023-04-12T09:39:04.797241Z",
     "end_time": "2023-04-12T09:39:09.720014Z"
    }
   },
   "outputs": [],
   "source": [
    "from llama_index import (\n",
    "    GPTKeywordTableIndex,\n",
    "    SimpleDirectoryReader,\n",
    "    LLMPredictor,\n",
    "    ServiceContext\n",
    ")\n",
    "from langchain import OpenAI\n",
    "\n",
    "documents = SimpleDirectoryReader('data').load_data()"
   ]
  },
  {
   "cell_type": "code",
   "execution_count": 6,
   "outputs": [],
   "source": [
    "llm_predictor = LLMPredictor(llm=OpenAI(temperature=0, model_name=\"text-davinci-003\"))\n",
    "service_context = ServiceContext.from_defaults(llm_predictor=llm_predictor)"
   ],
   "metadata": {
    "collapsed": false,
    "ExecuteTime": {
     "start_time": "2023-04-12T09:39:13.723031Z",
     "end_time": "2023-04-12T09:39:20.365483Z"
    }
   }
  },
  {
   "cell_type": "code",
   "execution_count": 8,
   "id": "370fd08f-56ff-4c24-b0c4-c93116a6d482",
   "metadata": {
    "tags": [],
    "ExecuteTime": {
     "start_time": "2023-04-12T09:40:36.110338Z",
     "end_time": "2023-04-12T09:41:49.070309Z"
    }
   },
   "outputs": [
    {
     "name": "stdout",
     "output_type": "stream",
     "text": [
      "INFO:llama_index.indices.common_tree.base:> Building index from nodes: 10 chunks\n",
      "> Building index from nodes: 10 chunks\n",
      "INFO:llama_index.indices.common_tree.base:> Building index from nodes: 1 chunks\n",
      "> Building index from nodes: 1 chunks\n",
      "INFO:llama_index.token_counter.token_counter:> [build_index_from_nodes] Total LLM token usage: 37112 tokens\n",
      "> [build_index_from_nodes] Total LLM token usage: 37112 tokens\n",
      "INFO:llama_index.token_counter.token_counter:> [build_index_from_nodes] Total embedding token usage: 0 tokens\n",
      "> [build_index_from_nodes] Total embedding token usage: 0 tokens\n"
     ]
    }
   ],
   "source": [
    "from llama_index import GPTTreeIndex, SimpleDirectoryReader\n",
    "\n",
    "index = GPTTreeIndex.from_documents(documents)"
   ]
  },
  {
   "cell_type": "code",
   "execution_count": 9,
   "id": "0b4fe9b6-5762-4e86-b51e-aac45d3ecdb1",
   "metadata": {
    "ExecuteTime": {
     "start_time": "2023-04-12T09:41:49.082216Z",
     "end_time": "2023-04-12T09:41:49.107264Z"
    }
   },
   "outputs": [],
   "source": [
    "index.save_to_disk('index.json')"
   ]
  },
  {
   "cell_type": "code",
   "execution_count": 10,
   "id": "5eec265d-211b-4f26-b05b-5b4e7072bc6e",
   "metadata": {
    "ExecuteTime": {
     "start_time": "2023-04-12T09:41:49.097721Z",
     "end_time": "2023-04-12T09:41:49.143798Z"
    }
   },
   "outputs": [],
   "source": [
    "# try loading\n",
    "new_index = GPTTreeIndex.load_from_disk('index.json')"
   ]
  },
  {
   "cell_type": "code",
   "execution_count": 12,
   "id": "bd14686d-1c53-4637-9340-3745f2121ae2",
   "metadata": {
    "ExecuteTime": {
     "start_time": "2023-04-12T09:42:21.097875Z",
     "end_time": "2023-04-12T09:42:32.222646Z"
    }
   },
   "outputs": [
    {
     "name": "stdout",
     "output_type": "stream",
     "text": [
      "INFO:llama_index.indices.tree.leaf_query:> Starting query: 什么是 Unit Mesh?\n",
      "> Starting query: 什么是 Unit Mesh?\n",
      "INFO:llama_index.indices.tree.leaf_query:>[Level 0] Selected node: [1]/[1]\n",
      ">[Level 0] Selected node: [1]/[1]\n",
      "INFO:llama_index.indices.tree.leaf_query:>[Level 1] Selected node: [10]/[10]\n",
      ">[Level 1] Selected node: [10]/[10]\n",
      "INFO:llama_index.indices.tree.leaf_query:>[Level 2] Selected node: [5]/[5]\n",
      ">[Level 2] Selected node: [5]/[5]\n",
      "INFO:llama_index.token_counter.token_counter:> [query] Total LLM token usage: 8062 tokens\n",
      "> [query] Total LLM token usage: 8062 tokens\n",
      "INFO:llama_index.token_counter.token_counter:> [query] Total embedding token usage: 0 tokens\n",
      "> [query] Total embedding token usage: 0 tokens\n"
     ]
    }
   ],
   "source": [
    "# set Logging to DEBUG for more detailed outputs\n",
    "response = new_index.query(\"什么是 Unit Mesh?\")"
   ]
  },
  {
   "cell_type": "code",
   "execution_count": 14,
   "id": "b4c87d14-d2d8-4d80-89f6-1e5972973528",
   "metadata": {
    "ExecuteTime": {
     "start_time": "2023-04-12T09:42:42.528651Z",
     "end_time": "2023-04-12T09:42:42.539481Z"
    }
   },
   "outputs": [
    {
     "data": {
      "text/plain": "<IPython.core.display.Markdown object>",
      "text/markdown": "<b>Unit Mesh 是一个用于 AI 编程的架构范式，旨在提供一种机制，使得工程师可以把大语言模型（LLM）当成一个黑盒，提供输入就会产出对应的输出。Unit Mesh 提供了一系列的指令，以及足够的标准化，使得 AI 编程变得更加容易。</b>"
     },
     "metadata": {},
     "output_type": "display_data"
    }
   ],
   "source": [
    "from IPython.display import Markdown, display\n",
    "\n",
    "display(Markdown(f\"<b>{response}</b>\"))"
   ]
  },
  {
   "cell_type": "code",
   "execution_count": 15,
   "id": "68c9ebfe-b1b6-4f4e-9278-174346de8c90",
   "metadata": {
    "tags": [],
    "ExecuteTime": {
     "start_time": "2023-04-12T09:43:56.918069Z",
     "end_time": "2023-04-12T09:44:09.630917Z"
    }
   },
   "outputs": [
    {
     "name": "stdout",
     "output_type": "stream",
     "text": [
      "INFO:llama_index.indices.tree.leaf_query:> Starting query: 适合于企业级的研发提升方案有什么？\n",
      "> Starting query: 适合于企业级的研发提升方案有什么？\n",
      "INFO:llama_index.indices.tree.leaf_query:>[Level 0] Selected node: [2]/[2]\n",
      ">[Level 0] Selected node: [2]/[2]\n",
      "INFO:llama_index.indices.tree.leaf_query:>[Level 2] Selected node: [3]/[3]\n",
      ">[Level 2] Selected node: [3]/[3]\n",
      "INFO:llama_index.token_counter.token_counter:> [query] Total LLM token usage: 4561 tokens\n",
      "> [query] Total LLM token usage: 4561 tokens\n",
      "INFO:llama_index.token_counter.token_counter:> [query] Total embedding token usage: 0 tokens\n",
      "> [query] Total embedding token usage: 0 tokens\n"
     ]
    }
   ],
   "source": [
    "# set Logging to DEBUG for more detailed outputs\n",
    "response = new_index.query(\"适合于企业级的研发提升方案有什么？\")"
   ]
  },
  {
   "cell_type": "code",
   "execution_count": 16,
   "id": "a5ab5943-7c84-4c2b-ac99-ec4b5fc67e64",
   "metadata": {
    "ExecuteTime": {
     "start_time": "2023-04-12T09:44:20.333897Z",
     "end_time": "2023-04-12T09:44:20.346439Z"
    }
   },
   "outputs": [
    {
     "data": {
      "text/plain": "<IPython.core.display.Markdown object>",
      "text/markdown": "<b>企业级的研发提升方案可以包括：\n\n1. 制定编程规范：制定编程规范是确保代码风格一致性和可读性的重要措施。\n2. 标准化代码风格：编程风格的标准化可以提高代码的可读性，降低代码的复杂性和维护成本。\n3. 版本控制：版本控制是管理代码变更的一种方法，</b>"
     },
     "metadata": {},
     "output_type": "display_data"
    }
   ],
   "source": [
    "display(Markdown(f\"<b>{response}</b>\"))"
   ]
  }
 ],
 "metadata": {
  "kernelspec": {
   "display_name": "Python 3 (ipykernel)",
   "language": "python",
   "name": "python3"
  },
  "language_info": {
   "codemirror_mode": {
    "name": "ipython",
    "version": 3
   },
   "file_extension": ".py",
   "mimetype": "text/x-python",
   "name": "python",
   "nbconvert_exporter": "python",
   "pygments_lexer": "ipython3",
   "version": "3.9.16"
  }
 },
 "nbformat": 4,
 "nbformat_minor": 5
}
